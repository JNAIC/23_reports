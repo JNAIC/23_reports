{
 "cells": [
  {
   "cell_type": "code",
   "execution_count": 75,
   "metadata": {},
   "outputs": [],
   "source": [
    "import numpy as np\n",
    "import torch\n",
    "from torch.utils import data\n",
    "from d2l import torch as d2l\n",
    "\n",
    "def synthetic_data(w,b,num_samples):\n",
    "    features = torch.normal(0,1,(num_samples,len(w)))\n",
    "    labels = torch.matmul(features,w) + b\n",
    "    labels += torch.normal(0,1,labels.shape)\n",
    "    return features,labels.reshape(-1,1)\n",
    "\n",
    "true_w = torch.tensor([2,-3.4])\n",
    "true_b = 4.2\n",
    "features,labels = synthetic_data(true_w,true_b,1000)"
   ]
  },
  {
   "cell_type": "code",
   "execution_count": 76,
   "metadata": {},
   "outputs": [],
   "source": [
    "def load_array(data_arrays,batch_size,is_train = True):\n",
    "    dataset = data.TensorDataset(*data_arrays)\n",
    "    return data.DataLoader(dataset,batch_size,shuffle=is_train)\n",
    "\n",
    "batch_size = 10\n",
    "data_iter = load_array((features,labels),batch_size)"
   ]
  },
  {
   "cell_type": "code",
   "execution_count": 77,
   "metadata": {},
   "outputs": [],
   "source": [
    "from torch import nn\n",
    "net = nn.Sequential(nn.Linear(2,1))\n",
    "# Sequential类将多个层串联在一起，全连接层在Linear类中定义，两个参数分别为输入和输出特征形状"
   ]
  },
  {
   "cell_type": "code",
   "execution_count": 78,
   "metadata": {},
   "outputs": [
    {
     "data": {
      "text/plain": [
       "tensor([0.])"
      ]
     },
     "execution_count": 78,
     "metadata": {},
     "output_type": "execute_result"
    }
   ],
   "source": [
    "net[0].weight.data.normal_(0,0.01)\n",
    "net[0].bias.data.fill_(0)"
   ]
  },
  {
   "cell_type": "code",
   "execution_count": 79,
   "metadata": {},
   "outputs": [],
   "source": [
    "loss = nn.MSELoss()\n",
    "trainer = torch.optim.SGD(net.parameters(),lr = 0.03)"
   ]
  },
  {
   "cell_type": "code",
   "execution_count": 80,
   "metadata": {},
   "outputs": [
    {
     "name": "stdout",
     "output_type": "stream",
     "text": [
      "epoch 1, loss 0.941834\n",
      "epoch 2, loss 0.936903\n",
      "epoch 3, loss 0.939843\n",
      "epoch 4, loss 0.949455\n",
      "epoch 5, loss 0.945713\n",
      "epoch 6, loss 0.942464\n",
      "epoch 7, loss 0.938309\n",
      "epoch 8, loss 0.935242\n",
      "epoch 9, loss 0.937086\n",
      "epoch 10, loss 0.936918\n",
      "epoch 11, loss 0.936281\n",
      "epoch 12, loss 0.936250\n",
      "epoch 13, loss 0.947275\n",
      "epoch 14, loss 0.942030\n",
      "epoch 15, loss 0.938934\n",
      "epoch 16, loss 0.942759\n",
      "epoch 17, loss 0.940901\n",
      "epoch 18, loss 0.946268\n",
      "epoch 19, loss 0.937132\n",
      "epoch 20, loss 0.936432\n",
      "epoch 21, loss 0.938317\n",
      "epoch 22, loss 0.944751\n",
      "epoch 23, loss 0.939016\n",
      "epoch 24, loss 0.941244\n",
      "epoch 25, loss 0.937070\n",
      "epoch 26, loss 0.938242\n",
      "epoch 27, loss 0.949156\n",
      "epoch 28, loss 0.956728\n",
      "epoch 29, loss 0.940252\n",
      "epoch 30, loss 0.941089\n",
      "epoch 31, loss 0.941494\n",
      "epoch 32, loss 0.948282\n",
      "epoch 33, loss 0.938466\n",
      "epoch 34, loss 0.935442\n",
      "epoch 35, loss 0.945995\n",
      "epoch 36, loss 0.957734\n",
      "epoch 37, loss 0.937760\n",
      "epoch 38, loss 0.936084\n",
      "epoch 39, loss 0.941426\n",
      "epoch 40, loss 0.936920\n",
      "epoch 41, loss 0.942624\n",
      "epoch 42, loss 0.935363\n",
      "epoch 43, loss 0.945334\n",
      "epoch 44, loss 0.936630\n",
      "epoch 45, loss 0.943635\n",
      "epoch 46, loss 0.936551\n",
      "epoch 47, loss 0.944292\n",
      "epoch 48, loss 0.940876\n",
      "epoch 49, loss 0.936404\n",
      "epoch 50, loss 0.935636\n",
      "epoch 51, loss 0.936308\n",
      "epoch 52, loss 0.941659\n",
      "epoch 53, loss 0.949517\n",
      "epoch 54, loss 0.936830\n",
      "epoch 55, loss 0.937177\n",
      "epoch 56, loss 0.939221\n",
      "epoch 57, loss 0.935883\n",
      "epoch 58, loss 0.939147\n",
      "epoch 59, loss 0.949791\n",
      "epoch 60, loss 0.941257\n",
      "epoch 61, loss 0.942694\n",
      "epoch 62, loss 0.941293\n",
      "epoch 63, loss 0.935728\n",
      "epoch 64, loss 0.939793\n",
      "epoch 65, loss 0.951486\n",
      "epoch 66, loss 0.936212\n",
      "epoch 67, loss 0.935488\n",
      "epoch 68, loss 0.942913\n",
      "epoch 69, loss 0.951875\n",
      "epoch 70, loss 0.943628\n",
      "epoch 71, loss 0.937045\n",
      "epoch 72, loss 0.942974\n",
      "epoch 73, loss 0.938409\n",
      "epoch 74, loss 0.941186\n",
      "epoch 75, loss 0.947129\n",
      "epoch 76, loss 0.939503\n",
      "epoch 77, loss 0.943592\n",
      "epoch 78, loss 0.940492\n",
      "epoch 79, loss 0.965794\n",
      "epoch 80, loss 0.940189\n",
      "epoch 81, loss 0.934732\n",
      "epoch 82, loss 0.937246\n",
      "epoch 83, loss 0.957609\n",
      "epoch 84, loss 0.938441\n",
      "epoch 85, loss 0.938732\n",
      "epoch 86, loss 0.934985\n",
      "epoch 87, loss 0.938308\n",
      "epoch 88, loss 0.942078\n",
      "epoch 89, loss 0.936543\n",
      "epoch 90, loss 0.939374\n",
      "epoch 91, loss 0.939308\n",
      "epoch 92, loss 0.941171\n",
      "epoch 93, loss 0.936499\n",
      "epoch 94, loss 0.936041\n",
      "epoch 95, loss 0.946895\n",
      "epoch 96, loss 0.947039\n",
      "epoch 97, loss 0.954711\n",
      "epoch 98, loss 0.940513\n",
      "epoch 99, loss 0.937247\n",
      "epoch 100, loss 0.935877\n"
     ]
    }
   ],
   "source": [
    "num_epochs = 100\n",
    "for epoch in range(num_epochs):\n",
    "    for X, y in data_iter:\n",
    "        l = loss(net(X) ,y)\n",
    "        trainer.zero_grad()\n",
    "        l.backward()\n",
    "        trainer.step()\n",
    "    l = loss(net(features), labels)\n",
    "    print(f'epoch {epoch + 1}, loss {l:f}')"
   ]
  },
  {
   "cell_type": "code",
   "execution_count": null,
   "metadata": {},
   "outputs": [],
   "source": []
  }
 ],
 "metadata": {
  "kernelspec": {
   "display_name": "base",
   "language": "python",
   "name": "python3"
  },
  "language_info": {
   "codemirror_mode": {
    "name": "ipython",
    "version": 3
   },
   "file_extension": ".py",
   "mimetype": "text/x-python",
   "name": "python",
   "nbconvert_exporter": "python",
   "pygments_lexer": "ipython3",
   "version": "3.11.4"
  }
 },
 "nbformat": 4,
 "nbformat_minor": 2
}
