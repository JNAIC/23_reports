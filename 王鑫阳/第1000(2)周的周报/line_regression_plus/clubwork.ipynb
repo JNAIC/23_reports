{
 "cells": [
  {
   "cell_type": "code",
   "execution_count": 22,
   "metadata": {},
   "outputs": [],
   "source": [
    "import pandas as pd\n",
    "import numpy as np\n",
    "import matplotlib.pyplot as plt\n",
    "import seaborn as sns\n",
    "\n",
    "data = pd.read_csv(r'C:\\Users\\NENOOD\\Desktop\\test_task\\ex1data2.txt', header=None)"
   ]
  },
  {
   "cell_type": "code",
   "execution_count": 23,
   "metadata": {},
   "outputs": [
    {
     "data": {
      "text/html": [
       "<div>\n",
       "<style scoped>\n",
       "    .dataframe tbody tr th:only-of-type {\n",
       "        vertical-align: middle;\n",
       "    }\n",
       "\n",
       "    .dataframe tbody tr th {\n",
       "        vertical-align: top;\n",
       "    }\n",
       "\n",
       "    .dataframe thead th {\n",
       "        text-align: right;\n",
       "    }\n",
       "</style>\n",
       "<table border=\"1\" class=\"dataframe\">\n",
       "  <thead>\n",
       "    <tr style=\"text-align: right;\">\n",
       "      <th></th>\n",
       "      <th>0</th>\n",
       "      <th>1</th>\n",
       "      <th>2</th>\n",
       "    </tr>\n",
       "  </thead>\n",
       "  <tbody>\n",
       "    <tr>\n",
       "      <th>0</th>\n",
       "      <td>2104</td>\n",
       "      <td>3</td>\n",
       "      <td>399900</td>\n",
       "    </tr>\n",
       "    <tr>\n",
       "      <th>1</th>\n",
       "      <td>1600</td>\n",
       "      <td>3</td>\n",
       "      <td>329900</td>\n",
       "    </tr>\n",
       "    <tr>\n",
       "      <th>2</th>\n",
       "      <td>2400</td>\n",
       "      <td>3</td>\n",
       "      <td>369000</td>\n",
       "    </tr>\n",
       "    <tr>\n",
       "      <th>3</th>\n",
       "      <td>1416</td>\n",
       "      <td>2</td>\n",
       "      <td>232000</td>\n",
       "    </tr>\n",
       "    <tr>\n",
       "      <th>4</th>\n",
       "      <td>3000</td>\n",
       "      <td>4</td>\n",
       "      <td>539900</td>\n",
       "    </tr>\n",
       "  </tbody>\n",
       "</table>\n",
       "</div>"
      ],
      "text/plain": [
       "      0  1       2\n",
       "0  2104  3  399900\n",
       "1  1600  3  329900\n",
       "2  2400  3  369000\n",
       "3  1416  2  232000\n",
       "4  3000  4  539900"
      ]
     },
     "execution_count": 23,
     "metadata": {},
     "output_type": "execute_result"
    }
   ],
   "source": [
    "data.head()"
   ]
  },
  {
   "cell_type": "code",
   "execution_count": 24,
   "metadata": {},
   "outputs": [],
   "source": [
    "X = data.iloc[:,0:2]\n",
    "y = data.iloc[:,2].values.reshape(47,1)"
   ]
  },
  {
   "cell_type": "code",
   "execution_count": 25,
   "metadata": {},
   "outputs": [],
   "source": [
    "def line_reg(w, b) :\n",
    "    y_hat = np.dot(X, w) + b\n",
    "    return y_hat"
   ]
  },
  {
   "cell_type": "code",
   "execution_count": 26,
   "metadata": {},
   "outputs": [],
   "source": [
    "def loss(y_hat, y):\n",
    "    l = ((y_hat - y)**2) / 2\n",
    "    return np.sum(l) / 47"
   ]
  },
  {
   "cell_type": "code",
   "execution_count": 27,
   "metadata": {},
   "outputs": [],
   "source": [
    "def update(w, b, epochs, lr):\n",
    "    for epoch in range(epochs):\n",
    "        y_hat = line_reg(w, b)\n",
    "        dw = np.dot(X.T, (y_hat - y))\n",
    "        db = np.sum(y_hat - y)/47\n",
    "        w -= lr * dw\n",
    "        b -= lr * db\n",
    "        if (epoch+1) % 10 == 0:\n",
    "            print(f\"epoch:{epoch+1}  loss:{np.sum(loss(y_hat, y))}\")\n",
    "    return w, b"
   ]
  },
  {
   "cell_type": "code",
   "execution_count": 28,
   "metadata": {},
   "outputs": [
    {
     "name": "stdout",
     "output_type": "stream",
     "text": [
      "epoch:10  loss:3149478437.3890705\n",
      "epoch:20  loss:2403449144.109304\n",
      "epoch:30  loss:2397877212.540851\n",
      "epoch:40  loss:2397835468.5829997\n",
      "epoch:50  loss:2397835027.4424033\n",
      "epoch:60  loss:2397834894.7765784\n",
      "epoch:70  loss:2397834764.4147506\n",
      "epoch:80  loss:2397834634.070249\n",
      "epoch:90  loss:2397834503.725996\n",
      "epoch:100  loss:2397834373.381865\n",
      "epoch:110  loss:2397834243.0378523\n",
      "epoch:120  loss:2397834112.693959\n",
      "epoch:130  loss:2397833982.350187\n",
      "epoch:140  loss:2397833852.006533\n",
      "epoch:150  loss:2397833721.662999\n",
      "epoch:160  loss:2397833591.3195868\n",
      "epoch:170  loss:2397833460.9762917\n",
      "epoch:180  loss:2397833330.633119\n",
      "epoch:190  loss:2397833200.2900643\n",
      "epoch:200  loss:2397833069.9471297\n",
      "(array([[165.38077819],\n",
      "       [  1.39196922]]), 1.0034117061719126)\n"
     ]
    }
   ],
   "source": [
    "w = np.array([[2.0],\n",
    "              [1.0]])\n",
    "b = 1\n",
    "epochs = 200\n",
    "lr = 0.000000001\n",
    "print(update(w, b, epochs, lr))"
   ]
  }
 ],
 "metadata": {
  "kernelspec": {
   "display_name": "base",
   "language": "python",
   "name": "python3"
  },
  "language_info": {
   "codemirror_mode": {
    "name": "ipython",
    "version": 3
   },
   "file_extension": ".py",
   "mimetype": "text/x-python",
   "name": "python",
   "nbconvert_exporter": "python",
   "pygments_lexer": "ipython3",
   "version": "3.11.4"
  }
 },
 "nbformat": 4,
 "nbformat_minor": 2
}
