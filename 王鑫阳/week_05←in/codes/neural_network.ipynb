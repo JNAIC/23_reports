{
 "cells": [
  {
   "cell_type": "code",
   "execution_count": 2,
   "metadata": {},
   "outputs": [],
   "source": [
    "import numpy as np\n",
    "import scipy"
   ]
  },
  {
   "cell_type": "code",
   "execution_count": null,
   "metadata": {},
   "outputs": [],
   "source": [
    "class neuralnetwork:\n",
    "    def __init__(self, inputnodes, hiddennodes, outputnodes, learningrate):\n",
    "        # 初始化节点数量和学习率\n",
    "        self.inodes = inputnodes\n",
    "        self.hnodes = hiddennodes\n",
    "        self.onodes = outputnodes\n",
    "        self.lr = learningrate\n",
    "\n",
    "        # 随机初始化权重\n",
    "        self.wih = np.random.normal(0.0, # 正态分布的均值\n",
    "                                    pow(self.hnodes, -0.5), # 标准差\n",
    "                                    (self.hnodes, self.inodes)) # 生成的随机数的形状\n",
    "        self.who = np.random.normal(0.0,\n",
    "                                    pow(self.onodes, -0.5),\n",
    "                                    (self.onodes, self.hnodes))\n",
    "        \n",
    "        # 设置激活函数\n",
    "        self.activation_function = lambda x: scipy.special.expit(x)\n",
    "\n",
    "    def train(self, inputs_list, targets_list):\n",
    "        # 调整输入的形状\n",
    "        inputs = np.array(inputs_list, ndmin = 2).T # ndmin使维度最小为二，即使输入的一维数组\n",
    "        targets = np.array(targets_list, ndmin = 2).T\n",
    "\n",
    "        # 计算隐藏层和输出层\n",
    "        hidden_inputs = np.dot(self.wih, inputs)\n",
    "        hidden_outputs = self.activation_function(hidden_inputs)\n",
    "        final_inputs = np.dot(self.who, hidden_outputs)\n",
    "        final_outputs = self.activation_function(final_inputs)\n",
    "\n",
    "        # 计算输出层误差和隐藏层误差\n",
    "        output_errors = targets - final_outputs\n",
    "        hidden_errors = np.dot(self.who.T, output_errors)\n",
    "\n",
    "        # 使用梯度下降更新权重\n",
    "        self.who += self.lr * np.dot((output_errors * final_outputs * (1.0 - final_outputs)), np.transpose(hidden_outputs))\n",
    "        self.wih += self.lr * np.dot((hidden_errors * hidden_outputs * (1.0 - hidden_outputs)), np.transpose(inputs))\n",
    "\n",
    "    def qury(self, inputs_list):\n",
    "\n",
    "        # 与train部分相同\n",
    "        inputs = np.array(inputs_list, ndmin = 2).T\n",
    "        hidden_inputs = np.dot(self.wih, inputs)\n",
    "        hidden_outputs = self.activation_function(hidden_inputs)\n",
    "        final_inputs = np.dot(self.who, hidden_outputs)\n",
    "        final_outputs = self.activation_function(final_inputs)\n",
    "\n",
    "        return final_outputs"
   ]
  }
 ],
 "metadata": {
  "kernelspec": {
   "display_name": "base",
   "language": "python",
   "name": "python3"
  },
  "language_info": {
   "codemirror_mode": {
    "name": "ipython",
    "version": 3
   },
   "file_extension": ".py",
   "mimetype": "text/x-python",
   "name": "python",
   "nbconvert_exporter": "python",
   "pygments_lexer": "ipython3",
   "version": "3.11.4"
  }
 },
 "nbformat": 4,
 "nbformat_minor": 2
}
