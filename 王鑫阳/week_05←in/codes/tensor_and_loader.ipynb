{
 "cells": [
  {
   "cell_type": "code",
   "execution_count": 2,
   "metadata": {},
   "outputs": [
    {
     "name": "stdout",
     "output_type": "stream",
     "text": [
      "(tensor([[1, 2],\n",
      "        [3, 4],\n",
      "        [5, 6]]), tensor([0, 1, 0]))\n"
     ]
    }
   ],
   "source": [
    "import torch\n",
    "from torch.utils.data import TensorDataset\n",
    "\n",
    "# 举例创建一个包含特征和标签的 TensorDataset\n",
    "features = torch.tensor([[1, 2], [3, 4], [5, 6]])\n",
    "labels = torch.tensor([0, 1, 0])\n",
    "dataset = TensorDataset(features, labels)\n",
    "print(dataset[::])\n"
   ]
  },
  {
   "cell_type": "code",
   "execution_count": 3,
   "metadata": {},
   "outputs": [
    {
     "name": "stdout",
     "output_type": "stream",
     "text": [
      "Batch data: tensor([[3, 4],\n",
      "        [5, 6]])\n",
      "Batch label: tensor([1, 0])\n",
      "Batch data: tensor([[1, 2]])\n",
      "Batch label: tensor([0])\n"
     ]
    }
   ],
   "source": [
    "from torch.utils.data import DataLoader\n",
    "\n",
    "# 举例创建一个 DataLoader 对象\n",
    "batch_size = 2\n",
    "data_loader = DataLoader(dataset, batch_size=batch_size, shuffle=True)\n",
    "for data, label in data_loader:\n",
    "    print(\"Batch data:\", data)\n",
    "    print(\"Batch label:\", label)\n"
   ]
  }
 ],
 "metadata": {
  "kernelspec": {
   "display_name": "base",
   "language": "python",
   "name": "python3"
  },
  "language_info": {
   "codemirror_mode": {
    "name": "ipython",
    "version": 3
   },
   "file_extension": ".py",
   "mimetype": "text/x-python",
   "name": "python",
   "nbconvert_exporter": "python",
   "pygments_lexer": "ipython3",
   "version": "3.11.4"
  }
 },
 "nbformat": 4,
 "nbformat_minor": 2
}
