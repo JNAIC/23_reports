{
 "cells": [
  {
   "cell_type": "code",
   "execution_count": 1,
   "metadata": {},
   "outputs": [],
   "source": [
    "import torch\n",
    "from torch import nn\n",
    "from d2l import torch as d2l\n",
    "\n",
    "batch_size = 256\n",
    "train_iter, test_iter = d2l.load_data_fashion_mnist(batch_size)\n",
    "# 这里load_data_fashion_mnist返回两个迭代器\n",
    "# 迭代器是一种不同于其他变量的数据结构，这能按照特定的顺序访问数据\n",
    "# 这里每个迭代器中有batch_size大小的小批量数据"
   ]
  },
  {
   "cell_type": "code",
   "execution_count": 2,
   "metadata": {},
   "outputs": [
    {
     "data": {
      "text/plain": [
       "Sequential(\n",
       "  (0): Flatten(start_dim=1, end_dim=-1)\n",
       "  (1): Linear(in_features=784, out_features=10, bias=True)\n",
       ")"
      ]
     },
     "execution_count": 2,
     "metadata": {},
     "output_type": "execute_result"
    }
   ],
   "source": [
    "net = nn.Sequential(nn.Flatten(), nn.Linear(784, 10))\n",
    "# nn.Linear是PyTorch中的全连接层，它将输入与权重矩阵相乘，并添加偏置，输出一个新的特征表示\n",
    "# y = w * x + b 这里的w就是权重，b就是偏置\n",
    "\n",
    "def init_weights(m):\n",
    "    if type(m) == nn.Linear: # \n",
    "        nn.init.normal_(m.weight, std = 0.01)\n",
    "        # 使用正态分布会使得训练过程更加稳定，防止梯度消失和梯度爆炸\n",
    "\n",
    "net.apply(init_weights) # 将init_weight应用到net中"
   ]
  },
  {
   "cell_type": "markdown",
   "metadata": {},
   "source": [
    "#### 二分类的交叉熵函数\n",
    "$L(y, \\hat{y}) = - (y \\log(\\hat{y}) + (1 - y) \\log(1 - \\hat{y}))$\n",
    "#### 多分类的交叉熵函数\n",
    "$L(y, \\hat{y}) = - \\sum_{i=1}^{n} y_i \\log(\\hat{y_i})$"
   ]
  },
  {
   "cell_type": "code",
   "execution_count": 3,
   "metadata": {},
   "outputs": [],
   "source": [
    "# 定义损失函数\n",
    "# 这里使用了优化后的交叉熵损失函数\n",
    "\n",
    "loss = nn.CrossEntropyLoss(reduction='none')"
   ]
  },
  {
   "cell_type": "code",
   "execution_count": 4,
   "metadata": {},
   "outputs": [],
   "source": [
    "# 优化算法\n",
    "\n",
    "trainer = torch.optim.SGD(net.parameters(), lr = 0.1)"
   ]
  },
  {
   "cell_type": "code",
   "execution_count": 5,
   "metadata": {},
   "outputs": [
    {
     "ename": "AttributeError",
     "evalue": "module 'd2l.torch' has no attribute 'train_ch3'",
     "output_type": "error",
     "traceback": [
      "\u001b[1;31m---------------------------------------------------------------------------\u001b[0m",
      "\u001b[1;31mAttributeError\u001b[0m                            Traceback (most recent call last)",
      "\u001b[1;32md:\\Programs\\code programs\\IPYNB Programs\\limu_lessons\\softmax的简洁实现.ipynb 单元格 6\u001b[0m line \u001b[0;36m4\n\u001b[0;32m      <a href='vscode-notebook-cell:/d%3A/Programs/code%20programs/IPYNB%20Programs/limu_lessons/softmax%E7%9A%84%E7%AE%80%E6%B4%81%E5%AE%9E%E7%8E%B0.ipynb#X10sZmlsZQ%3D%3D?line=0'>1</a>\u001b[0m \u001b[39m# 训练\u001b[39;00m\n\u001b[0;32m      <a href='vscode-notebook-cell:/d%3A/Programs/code%20programs/IPYNB%20Programs/limu_lessons/softmax%E7%9A%84%E7%AE%80%E6%B4%81%E5%AE%9E%E7%8E%B0.ipynb#X10sZmlsZQ%3D%3D?line=2'>3</a>\u001b[0m num_epochs \u001b[39m=\u001b[39m \u001b[39m10\u001b[39m\n\u001b[1;32m----> <a href='vscode-notebook-cell:/d%3A/Programs/code%20programs/IPYNB%20Programs/limu_lessons/softmax%E7%9A%84%E7%AE%80%E6%B4%81%E5%AE%9E%E7%8E%B0.ipynb#X10sZmlsZQ%3D%3D?line=3'>4</a>\u001b[0m d2l\u001b[39m.\u001b[39mtrain_ch3(net, train_iter, test_iter, loss, num_epochs, trainer)\n",
      "\u001b[1;31mAttributeError\u001b[0m: module 'd2l.torch' has no attribute 'train_ch3'"
     ]
    }
   ],
   "source": [
    "# 训练\n",
    "\n",
    "num_epochs = 10\n",
    "d2l.train_ch3(net, train_iter, test_iter, loss, num_epochs, trainer)"
   ]
  },
  {
   "cell_type": "code",
   "execution_count": null,
   "metadata": {},
   "outputs": [],
   "source": []
  }
 ],
 "metadata": {
  "kernelspec": {
   "display_name": "base",
   "language": "python",
   "name": "python3"
  },
  "language_info": {
   "codemirror_mode": {
    "name": "ipython",
    "version": 3
   },
   "file_extension": ".py",
   "mimetype": "text/x-python",
   "name": "python",
   "nbconvert_exporter": "python",
   "pygments_lexer": "ipython3",
   "version": "3.11.4"
  }
 },
 "nbformat": 4,
 "nbformat_minor": 2
}
