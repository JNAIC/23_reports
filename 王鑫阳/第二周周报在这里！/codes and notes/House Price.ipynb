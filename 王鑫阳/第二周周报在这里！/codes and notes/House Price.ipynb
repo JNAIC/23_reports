{
 "cells": [
  {
   "cell_type": "code",
   "execution_count": 1,
   "id": "d2409e4f-d18b-4405-85d3-6a7058a54fb6",
   "metadata": {
    "tags": []
   },
   "outputs": [],
   "source": [
    "# 读取文件\n",
    "import pandas as pd\n",
    "train_path = r'C:\\Users\\NENOOD\\Desktop\\house-prices-advanced-regression-techniques\\train.csv'\n",
    "test_path = r'C:\\Users\\NENOOD\\Desktop\\house-prices-advanced-regression-techniques\\test.csv'\n",
    "train_data = pd.read_csv(train_path)\n",
    "test_feature_org = pd.read_csv(test_path)"
   ]
  },
  {
   "cell_type": "code",
   "execution_count": 2,
   "id": "5ac5cdc5",
   "metadata": {
    "tags": []
   },
   "outputs": [
    {
     "data": {
      "text/plain": [
       "0       1461\n",
       "1       1462\n",
       "2       1463\n",
       "3       1464\n",
       "4       1465\n",
       "        ... \n",
       "1454    2915\n",
       "1455    2916\n",
       "1456    2917\n",
       "1457    2918\n",
       "1458    2919\n",
       "Name: Id, Length: 1459, dtype: int64"
      ]
     },
     "execution_count": 2,
     "metadata": {},
     "output_type": "execute_result"
    }
   ],
   "source": [
    "# 设置特征和目标\n",
    "train_feature_org = train_data.copy()\n",
    "train_label = train_feature_org.pop('SalePrice')\n",
    "train_feature_org.pop(\"Id\")\n",
    "ID = test_feature_org[['Id']].copy()\n",
    "test_feature_org.pop(\"Id\")"
   ]
  },
  {
   "cell_type": "code",
   "execution_count": 3,
   "id": "1c2f0993",
   "metadata": {
    "tags": []
   },
   "outputs": [],
   "source": [
    "# 对数据集进行预处理 train_feature and test_feature\n",
    "from sklearn.compose import ColumnTransformer\n",
    "from sklearn.pipeline import Pipeline\n",
    "from sklearn.impute import SimpleImputer\n",
    "from sklearn.preprocessing import OneHotEncoder\n",
    "\n",
    "cat_cols = [cname for cname in train_feature_org.columns if train_feature_org[cname].nunique() < 10 and train_feature_org[cname].dtype == 'object']\n",
    "num_cols = [cname for cname in train_feature_org.columns if train_feature_org[cname].dtype in ['int64','float64']]\n",
    "\n",
    "num_transformer = SimpleImputer(strategy='constant')\n",
    "cat_transformer = Pipeline(steps=[\n",
    "    ('imputer', SimpleImputer(strategy='most_frequent')),\n",
    "    ('ohenc', OneHotEncoder(handle_unknown='ignore'))\n",
    "])\n",
    "\n",
    "preprocessor = ColumnTransformer(\n",
    "    transformers = [\n",
    "        ('num',num_transformer,num_cols),\n",
    "        ('cat',cat_transformer,cat_cols)\n",
    "    ]\n",
    ")\n",
    "\n",
    "train_feature = preprocessor.fit_transform(train_feature_org)\n",
    "test_feature = preprocessor.transform(test_feature_org)"
   ]
  },
  {
   "cell_type": "code",
   "execution_count": 4,
   "id": "207e4e14",
   "metadata": {},
   "outputs": [
    {
     "data": {
      "text/plain": [
       "(1460, 232)"
      ]
     },
     "execution_count": 4,
     "metadata": {},
     "output_type": "execute_result"
    }
   ],
   "source": [
    "train_feature.shape"
   ]
  },
  {
   "cell_type": "code",
   "execution_count": 5,
   "id": "eb46ea06",
   "metadata": {},
   "outputs": [
    {
     "data": {
      "text/plain": [
       "(1459, 232)"
      ]
     },
     "execution_count": 5,
     "metadata": {},
     "output_type": "execute_result"
    }
   ],
   "source": [
    "test_feature.shape"
   ]
  },
  {
   "cell_type": "code",
   "execution_count": 6,
   "id": "f6049a22",
   "metadata": {},
   "outputs": [],
   "source": [
    "# 建立训练集和检验集\n",
    "from sklearn.model_selection import train_test_split\n",
    "train_X,val_X,train_y,val_y = train_test_split(train_feature,train_label,test_size = 0.3,random_state = 1091)"
   ]
  },
  {
   "cell_type": "code",
   "execution_count": 7,
   "id": "6010cd47",
   "metadata": {},
   "outputs": [
    {
     "data": {
      "text/html": [
       "<style>#sk-container-id-1 {color: black;}#sk-container-id-1 pre{padding: 0;}#sk-container-id-1 div.sk-toggleable {background-color: white;}#sk-container-id-1 label.sk-toggleable__label {cursor: pointer;display: block;width: 100%;margin-bottom: 0;padding: 0.3em;box-sizing: border-box;text-align: center;}#sk-container-id-1 label.sk-toggleable__label-arrow:before {content: \"▸\";float: left;margin-right: 0.25em;color: #696969;}#sk-container-id-1 label.sk-toggleable__label-arrow:hover:before {color: black;}#sk-container-id-1 div.sk-estimator:hover label.sk-toggleable__label-arrow:before {color: black;}#sk-container-id-1 div.sk-toggleable__content {max-height: 0;max-width: 0;overflow: hidden;text-align: left;background-color: #f0f8ff;}#sk-container-id-1 div.sk-toggleable__content pre {margin: 0.2em;color: black;border-radius: 0.25em;background-color: #f0f8ff;}#sk-container-id-1 input.sk-toggleable__control:checked~div.sk-toggleable__content {max-height: 200px;max-width: 100%;overflow: auto;}#sk-container-id-1 input.sk-toggleable__control:checked~label.sk-toggleable__label-arrow:before {content: \"▾\";}#sk-container-id-1 div.sk-estimator input.sk-toggleable__control:checked~label.sk-toggleable__label {background-color: #d4ebff;}#sk-container-id-1 div.sk-label input.sk-toggleable__control:checked~label.sk-toggleable__label {background-color: #d4ebff;}#sk-container-id-1 input.sk-hidden--visually {border: 0;clip: rect(1px 1px 1px 1px);clip: rect(1px, 1px, 1px, 1px);height: 1px;margin: -1px;overflow: hidden;padding: 0;position: absolute;width: 1px;}#sk-container-id-1 div.sk-estimator {font-family: monospace;background-color: #f0f8ff;border: 1px dotted black;border-radius: 0.25em;box-sizing: border-box;margin-bottom: 0.5em;}#sk-container-id-1 div.sk-estimator:hover {background-color: #d4ebff;}#sk-container-id-1 div.sk-parallel-item::after {content: \"\";width: 100%;border-bottom: 1px solid gray;flex-grow: 1;}#sk-container-id-1 div.sk-label:hover label.sk-toggleable__label {background-color: #d4ebff;}#sk-container-id-1 div.sk-serial::before {content: \"\";position: absolute;border-left: 1px solid gray;box-sizing: border-box;top: 0;bottom: 0;left: 50%;z-index: 0;}#sk-container-id-1 div.sk-serial {display: flex;flex-direction: column;align-items: center;background-color: white;padding-right: 0.2em;padding-left: 0.2em;position: relative;}#sk-container-id-1 div.sk-item {position: relative;z-index: 1;}#sk-container-id-1 div.sk-parallel {display: flex;align-items: stretch;justify-content: center;background-color: white;position: relative;}#sk-container-id-1 div.sk-item::before, #sk-container-id-1 div.sk-parallel-item::before {content: \"\";position: absolute;border-left: 1px solid gray;box-sizing: border-box;top: 0;bottom: 0;left: 50%;z-index: -1;}#sk-container-id-1 div.sk-parallel-item {display: flex;flex-direction: column;z-index: 1;position: relative;background-color: white;}#sk-container-id-1 div.sk-parallel-item:first-child::after {align-self: flex-end;width: 50%;}#sk-container-id-1 div.sk-parallel-item:last-child::after {align-self: flex-start;width: 50%;}#sk-container-id-1 div.sk-parallel-item:only-child::after {width: 0;}#sk-container-id-1 div.sk-dashed-wrapped {border: 1px dashed gray;margin: 0 0.4em 0.5em 0.4em;box-sizing: border-box;padding-bottom: 0.4em;background-color: white;}#sk-container-id-1 div.sk-label label {font-family: monospace;font-weight: bold;display: inline-block;line-height: 1.2em;}#sk-container-id-1 div.sk-label-container {text-align: center;}#sk-container-id-1 div.sk-container {/* jupyter's `normalize.less` sets `[hidden] { display: none; }` but bootstrap.min.css set `[hidden] { display: none !important; }` so we also need the `!important` here to be able to override the default hidden behavior on the sphinx rendered scikit-learn.org. See: https://github.com/scikit-learn/scikit-learn/issues/21755 */display: inline-block !important;position: relative;}#sk-container-id-1 div.sk-text-repr-fallback {display: none;}</style><div id=\"sk-container-id-1\" class=\"sk-top-container\"><div class=\"sk-text-repr-fallback\"><pre>RandomForestRegressor(max_leaf_nodes=400, random_state=1091)</pre><b>In a Jupyter environment, please rerun this cell to show the HTML representation or trust the notebook. <br />On GitHub, the HTML representation is unable to render, please try loading this page with nbviewer.org.</b></div><div class=\"sk-container\" hidden><div class=\"sk-item\"><div class=\"sk-estimator sk-toggleable\"><input class=\"sk-toggleable__control sk-hidden--visually\" id=\"sk-estimator-id-1\" type=\"checkbox\" checked><label for=\"sk-estimator-id-1\" class=\"sk-toggleable__label sk-toggleable__label-arrow\">RandomForestRegressor</label><div class=\"sk-toggleable__content\"><pre>RandomForestRegressor(max_leaf_nodes=400, random_state=1091)</pre></div></div></div></div></div>"
      ],
      "text/plain": [
       "RandomForestRegressor(max_leaf_nodes=400, random_state=1091)"
      ]
     },
     "execution_count": 7,
     "metadata": {},
     "output_type": "execute_result"
    }
   ],
   "source": [
    "# 训练并优化模型\n",
    "from sklearn.ensemble import RandomForestRegressor\n",
    "from sklearn.metrics import mean_absolute_error\n",
    "\n",
    "def get_mae(nodes,train_X,val_X,train_y,val_y) :\n",
    "    model = RandomForestRegressor(max_leaf_nodes = nodes,random_state = 1091)\n",
    "    model.fit(train_X,train_y)\n",
    "    preds = model.predict(val_X)\n",
    "    mae = mean_absolute_error(val_y,preds)\n",
    "    return mae\n",
    "\n",
    "pre_nodes = [5, 25, 50, 100, 150, 200, 250, 300, 350, 400, 450, 500]\n",
    "scores = {nodes: get_mae(nodes,train_X,val_X,train_y,val_y) for nodes in pre_nodes}\n",
    "best_node = min(scores, key=scores.get)\n",
    "fin_model = RandomForestRegressor(max_leaf_nodes = best_node,random_state = 1091)\n",
    "fin_model.fit(train_feature,train_label)"
   ]
  },
  {
   "cell_type": "code",
   "execution_count": 8,
   "id": "f3fc1628",
   "metadata": {},
   "outputs": [],
   "source": [
    "# 预测\n",
    "fin_preds = fin_model.predict(test_feature)"
   ]
  },
  {
   "cell_type": "code",
   "execution_count": 9,
   "id": "48f04da0",
   "metadata": {},
   "outputs": [],
   "source": [
    "frame_preds = pd.DataFrame(fin_preds,columns=['SalePrice'])\n",
    "sub_preds = ID.join(frame_preds)"
   ]
  },
  {
   "cell_type": "code",
   "execution_count": 10,
   "id": "f38fd50d",
   "metadata": {},
   "outputs": [],
   "source": [
    "sub_preds.to_csv('submission.csv', index=False)"
   ]
  }
 ],
 "metadata": {
  "kernelspec": {
   "display_name": "Python 3 (ipykernel)",
   "language": "python",
   "name": "python3"
  },
  "language_info": {
   "codemirror_mode": {
    "name": "ipython",
    "version": 3
   },
   "file_extension": ".py",
   "mimetype": "text/x-python",
   "name": "python",
   "nbconvert_exporter": "python",
   "pygments_lexer": "ipython3",
   "version": "3.11.4"
  }
 },
 "nbformat": 4,
 "nbformat_minor": 5
}
