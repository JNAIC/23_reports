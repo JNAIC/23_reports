{
 "cells": [
  {
   "cell_type": "code",
   "execution_count": null,
   "id": "c0520015",
   "metadata": {},
   "outputs": [],
   "source": [
    "import numpy\n",
    "import scipy.special"
   ]
  },
  {
   "cell_type": "markdown",
   "id": "b78cbb7a",
   "metadata": {},
   "source": [
    "定义神经网络"
   ]
  },
  {
   "cell_type": "code",
   "execution_count": null,
   "id": "d96e21cd",
   "metadata": {},
   "outputs": [],
   "source": [
    "class neuralNetwork :\n",
    "    def __init__(self, inputnodes, hiddennodes, outputnodes, learningrate):\n",
    "        self.inodes = inputnodes\n",
    "        self.hnodes = hiddennodes\n",
    "        self.onodes = outputnodes\n",
    "        self.lr = learningrate\n",
    "        self.wih = numpy.random.normal(0.0, pow(self.hnodes, -0.5), (self.hnodes, self.inodes))\n",
    "        self.who = numpy.random.normal(0.0, pow(self.onodes, -0.5), (self.onodes, self.hnodes))\n",
    "        self.activation_function = lambda x:scipy.special.expit(x)\n",
    "        pass"
   ]
  },
  {
   "cell_type": "markdown",
   "id": "50140703",
   "metadata": {},
   "source": [
    "训练"
   ]
  },
  {
   "cell_type": "code",
   "execution_count": null,
   "id": "0ab12e8e",
   "metadata": {},
   "outputs": [],
   "source": [
    "    def train(self, inputs_list, targets_list):\n",
    "        inputs = numpy.array(inputs_list, ndmin = 2).T\n",
    "        targets = numpy.array(targets_list, ndmin = 2).T\n",
    "        \n",
    "        hidden_inputs = numpy.dot(self.wih, inputs)\n",
    "        hidden_outputs = self.activation.function(hidden_inputs)\n",
    "        \n",
    "        final_inputs = numpy.dot(self.who, hidden__outputs)\n",
    "        final_outputs = self.activation.function(final_inputs)\n",
    "        # 误差获取\n",
    "        output_errors = targets - final_outputs\n",
    "        hidden_errors = numpy.dot(self.who.T, output_errors)\n",
    "        \n",
    "        # 更新权重\n",
    "        self.who += self.lr * numpy.dot((output_errors * final_outputs * (1.0 - final_outputs)), numpy.transpose(hidden_outputs))\n",
    "        self.wih += self.lr * numpy.dot((hidden_errors * hidden_outputs * (1.0 - hidden_outputs)), numpy.transpose(inputs))\n",
    "        pass"
   ]
  },
  {
   "cell_type": "code",
   "execution_count": null,
   "id": "c36bc88a",
   "metadata": {},
   "outputs": [],
   "source": [
    "    def query(self, inputs_list):\n",
    "        inputs = numpy.array(inputs_list, ndmin = 2).T\n",
    "        hidden_inputs = numpy.dot(self.wih, inputs)\n",
    "        hidden_outputs = self.activation.function(hidden_inputs)\n",
    "        \n",
    "        final_inputs = numpy.dot(self.who, hidden__outputs)\n",
    "        final_outputs = self.activation.function(final_inputs)\n",
    "        \n",
    "        return final_outputs"
   ]
  }
 ],
 "metadata": {
  "kernelspec": {
   "display_name": "Python 3 (ipykernel)",
   "language": "python",
   "name": "python3"
  },
  "language_info": {
   "codemirror_mode": {
    "name": "ipython",
    "version": 3
   },
   "file_extension": ".py",
   "mimetype": "text/x-python",
   "name": "python",
   "nbconvert_exporter": "python",
   "pygments_lexer": "ipython3",
   "version": "3.11.4"
  }
 },
 "nbformat": 4,
 "nbformat_minor": 5
}
