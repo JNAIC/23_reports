{
 "cells": [
  {
   "cell_type": "code",
   "execution_count": 75,
   "id": "91c5c286",
   "metadata": {},
   "outputs": [],
   "source": [
    "import numpy as np\n",
    "import matplotlib.pyplot as plt\n",
    "import scipy.special"
   ]
  },
  {
   "cell_type": "code",
   "execution_count": 76,
   "id": "1dcd3d97",
   "metadata": {},
   "outputs": [],
   "source": [
    "class neuralNetwork :\n",
    "    def __init__(self, inputnodes, hiddennodes, outputnodes, learningrate):\n",
    "        self.inodes = inputnodes\n",
    "        self.hnodes = hiddennodes\n",
    "        self.onodes = outputnodes\n",
    "        self.lr = learningrate\n",
    "        self.wih = np.random.normal(0.0, pow(self.hnodes, -0.5), (self.hnodes, self.inodes))\n",
    "        self.who = np.random.normal(0.0, pow(self.onodes, -0.5), (self.onodes, self.hnodes))\n",
    "        self.activation_function = lambda x:scipy.special.expit(x)\n",
    "        pass\n",
    "    def train(self, inputs_list, targets_list):\n",
    "        inputs = np.array(inputs_list, ndmin = 2).T\n",
    "        targets = np.array(targets_list, ndmin = 2).T\n",
    "        \n",
    "        hidden_inputs = np.dot(self.wih, inputs)\n",
    "        hidden_outputs = self.activation_function(hidden_inputs)\n",
    "        \n",
    "        final_inputs = np.dot(self.who, hidden_outputs)\n",
    "        final_outputs = self.activation_function(final_inputs)\n",
    "        # 误差获取\n",
    "        output_errors = targets - final_outputs\n",
    "        hidden_errors = np.dot(self.who.T, output_errors)\n",
    "        \n",
    "        # 更新权重\n",
    "        self.who += self.lr * np.dot((output_errors * final_outputs * (1.0 - final_outputs)), np.transpose(hidden_outputs))\n",
    "        self.wih += self.lr * np.dot((hidden_errors * hidden_outputs * (1.0 - hidden_outputs)), np.transpose(inputs))\n",
    "        pass\n",
    "    def query(self, inputs_list):\n",
    "        inputs = np.array(inputs_list, ndmin = 2).T\n",
    "        hidden_inputs = np.dot(self.wih, inputs)\n",
    "        hidden_outputs = self.activation_function(hidden_inputs)\n",
    "        \n",
    "        final_inputs = np.dot(self.who, hidden_outputs)\n",
    "        final_outputs = self.activation_function(final_inputs)\n",
    "        \n",
    "        return final_outputs"
   ]
  },
  {
   "cell_type": "code",
   "execution_count": 77,
   "id": "b9a4e47d",
   "metadata": {},
   "outputs": [],
   "source": [
    "input_nodes = 784\n",
    "hidden_nodes = 200\n",
    "output_nodes = 10\n",
    "learning_rate = 0.1\n",
    "n = neuralNetwork(input_nodes, hidden_nodes, output_nodes, learning_rate)"
   ]
  },
  {
   "cell_type": "code",
   "execution_count": 78,
   "id": "ea405401",
   "metadata": {},
   "outputs": [],
   "source": [
    "traning_data_file = open(\"D:\\AI俱乐部\\mnist_train_100.csv\", 'r')\n",
    "traning_data_list = traning_data_file.readlines()\n",
    "traning_data_file.close()"
   ]
  },
  {
   "cell_type": "code",
   "execution_count": 79,
   "id": "d2f546aa",
   "metadata": {},
   "outputs": [],
   "source": [
    "# all_values = data_list[0].split(',')\n",
    "# image_array = np.asfarray(all_values[1:]).reshape((28,28))\n",
    "# plt.imshow(image_array, cmap = 'Greys', interpolation = 'None')\n"
   ]
  },
  {
   "cell_type": "code",
   "execution_count": 80,
   "id": "8289cd6e",
   "metadata": {},
   "outputs": [],
   "source": [
    "# 训练\n",
    "epochs = 100\n",
    "for i in range(epochs):\n",
    "    for record in traning_data_list:\n",
    "        all_values = record.split(',')\n",
    "        inputs = (np.asfarray(all_values[1:]) / 255 * 0.99) + 0.01\n",
    "        targets = np.zeros(output_nodes) + 0.01\n",
    "        targets[int(all_values[0])] = 0.99\n",
    "        n.train(inputs, targets)\n",
    "        pass\n",
    "    pass"
   ]
  },
  {
   "cell_type": "code",
   "execution_count": 81,
   "id": "58ba371e",
   "metadata": {},
   "outputs": [],
   "source": [
    "test_data_file = open(\"D:\\AI俱乐部\\mnist_test_10.csv\", 'r')\n",
    "test_data_list = test_data_file.readlines()\n",
    "test_data_file.close()"
   ]
  },
  {
   "cell_type": "code",
   "execution_count": 82,
   "id": "5e9402de",
   "metadata": {},
   "outputs": [],
   "source": [
    "# 小测试\n",
    "# all_values = test_data_list[0].split(',')\n",
    "# image_array = np.asfarray(all_values[1:]).reshape((28,28))\n",
    "# plt.imshow(image_array, cmap = 'Greys', interpolation = 'None')"
   ]
  },
  {
   "cell_type": "code",
   "execution_count": 83,
   "id": "369dedbc",
   "metadata": {},
   "outputs": [],
   "source": [
    "# n.query((np.asfarray(all_values[1:]) / 255 * 0.99) + 0.1)\n",
    "# np.argmax(n.query((np.asfarray(all_values[1:]) / 255 * 0.99) + 0.1))"
   ]
  },
  {
   "cell_type": "code",
   "execution_count": 84,
   "id": "cd2ab9ce",
   "metadata": {},
   "outputs": [],
   "source": [
    "# 精确值测试\n",
    "scorecard = []\n",
    "for record in test_data_list:\n",
    "    all_values = record.split(',')\n",
    "    inputs = (np.asfarray(all_values[1:]) / 255 * 0.99) + 0.1\n",
    "    correct_label = int(all_values[0])\n",
    "    label = np.argmax(n.query(inputs))\n",
    "    if(label == correct_label):\n",
    "        scorecard.append(1)\n",
    "    else:\n",
    "        scorecard.append(0)"
   ]
  },
  {
   "cell_type": "code",
   "execution_count": 85,
   "id": "0fb791cd",
   "metadata": {},
   "outputs": [
    {
     "name": "stdout",
     "output_type": "stream",
     "text": [
      "准确率 =  0.7\n"
     ]
    }
   ],
   "source": [
    "# 结果\n",
    "scorecard_array = np.asfarray(scorecard)\n",
    "print(\"准确率 = \",scorecard_array.sum() / scorecard_array.size)"
   ]
  },
  {
   "cell_type": "code",
   "execution_count": null,
   "id": "ee7e8b44",
   "metadata": {},
   "outputs": [],
   "source": []
  }
 ],
 "metadata": {
  "kernelspec": {
   "display_name": "Python 3 (ipykernel)",
   "language": "python",
   "name": "python3"
  },
  "language_info": {
   "codemirror_mode": {
    "name": "ipython",
    "version": 3
   },
   "file_extension": ".py",
   "mimetype": "text/x-python",
   "name": "python",
   "nbconvert_exporter": "python",
   "pygments_lexer": "ipython3",
   "version": "3.11.4"
  }
 },
 "nbformat": 4,
 "nbformat_minor": 5
}
