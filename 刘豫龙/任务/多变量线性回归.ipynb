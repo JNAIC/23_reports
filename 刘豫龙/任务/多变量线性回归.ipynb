{
 "cells": [
  {
   "cell_type": "code",
   "execution_count": 2,
   "id": "8a2e0058",
   "metadata": {},
   "outputs": [],
   "source": [
    "\n",
    "import pandas as pd\n",
    "import numpy as np\n",
    "import matplotlib.pyplot as plt"
   ]
  },
  {
   "cell_type": "code",
   "execution_count": 3,
   "id": "83d5ef2c",
   "metadata": {},
   "outputs": [
    {
     "data": {
      "text/html": [
       "<div>\n",
       "<style scoped>\n",
       "    .dataframe tbody tr th:only-of-type {\n",
       "        vertical-align: middle;\n",
       "    }\n",
       "\n",
       "    .dataframe tbody tr th {\n",
       "        vertical-align: top;\n",
       "    }\n",
       "\n",
       "    .dataframe thead th {\n",
       "        text-align: right;\n",
       "    }\n",
       "</style>\n",
       "<table border=\"1\" class=\"dataframe\">\n",
       "  <thead>\n",
       "    <tr style=\"text-align: right;\">\n",
       "      <th></th>\n",
       "      <th>A</th>\n",
       "      <th>B</th>\n",
       "      <th>C</th>\n",
       "    </tr>\n",
       "  </thead>\n",
       "  <tbody>\n",
       "    <tr>\n",
       "      <th>0</th>\n",
       "      <td>2104</td>\n",
       "      <td>3</td>\n",
       "      <td>399900</td>\n",
       "    </tr>\n",
       "    <tr>\n",
       "      <th>1</th>\n",
       "      <td>1600</td>\n",
       "      <td>3</td>\n",
       "      <td>329900</td>\n",
       "    </tr>\n",
       "    <tr>\n",
       "      <th>2</th>\n",
       "      <td>2400</td>\n",
       "      <td>3</td>\n",
       "      <td>369000</td>\n",
       "    </tr>\n",
       "    <tr>\n",
       "      <th>3</th>\n",
       "      <td>1416</td>\n",
       "      <td>2</td>\n",
       "      <td>232000</td>\n",
       "    </tr>\n",
       "    <tr>\n",
       "      <th>4</th>\n",
       "      <td>3000</td>\n",
       "      <td>4</td>\n",
       "      <td>539900</td>\n",
       "    </tr>\n",
       "  </tbody>\n",
       "</table>\n",
       "</div>"
      ],
      "text/plain": [
       "      A  B       C\n",
       "0  2104  3  399900\n",
       "1  1600  3  329900\n",
       "2  2400  3  369000\n",
       "3  1416  2  232000\n",
       "4  3000  4  539900"
      ]
     },
     "execution_count": 3,
     "metadata": {},
     "output_type": "execute_result"
    }
   ],
   "source": [
    "columns=['A','B','C']\n",
    "city_data=pd.read_csv(\"D:/JNAIC/test_task/ex1data2.txt\",names=columns)\n",
    "city_data.head()"
   ]
  },
  {
   "cell_type": "markdown",
   "id": "e6dca824",
   "metadata": {},
   "source": [
    "不会画图"
   ]
  },
  {
   "cell_type": "code",
   "execution_count": 6,
   "id": "f2a9e456",
   "metadata": {},
   "outputs": [],
   "source": [
    "x1 = city_data.A\n",
    "x2= city_data.B\n",
    "y =city_data.C\n",
    "# plt.scatter(x,y)\n",
    "# plt.xlabel(\"population of city in 10.000s\")\n",
    "# plt.ylabel(\"profit of city in 10.000s\")"
   ]
  },
  {
   "cell_type": "code",
   "execution_count": 13,
   "id": "66d80b70",
   "metadata": {},
   "outputs": [],
   "source": [
    "def J(X1,X2,Y,alpha,theta1,theta2,theta3):\n",
    "# def J(X,Y,alpha,theta1,theta2,iterations):\n",
    "    J_history1=[]\n",
    "    J_history2=[]\n",
    "    i=0\n",
    "    m=len(X1)\n",
    "    h=0\n",
    "    lost1=0\n",
    "    lost2=0\n",
    "    lost3=0\n",
    "#     for i in range(iterations):\n",
    "    while True:\n",
    "        for i in range(m):\n",
    "            h+=theta1*X1[1]+theta2*X2[i]+theta3\n",
    "            lost1+=(1/m)*(Y[i]-h)*alpha*X1[i]\n",
    "            lost2+=(1/m)*(Y[i]-h)*alpha*X2[i]\n",
    "            lost3+=(1/m)*(Y[i]-h)*alpha\n",
    "        J_history1.append(lost1)\n",
    "        theta1+=lost1\n",
    "        theta2+=lost2\n",
    "        theta3+=lost3\n",
    "        if -0.01<J_history1[-1] < 0.01 and -0.01<J_history2[-1]<0.01:\n",
    "            break\n",
    "    print(f\"the finalily theta1 is{theta1},theta2 is {theta2}\")\n",
    "    return theta1,theta2"
   ]
  },
  {
   "cell_type": "code",
   "execution_count": null,
   "id": "79a47ae5",
   "metadata": {},
   "outputs": [
    {
     "name": "stderr",
     "output_type": "stream",
     "text": [
      "C:\\Users\\lenovo\\AppData\\Local\\Temp\\ipykernel_40168\\1545241257.py:14: RuntimeWarning: overflow encountered in scalar multiply\n",
      "  h+=theta1*X1[1]+theta2*X2[i]+theta3\n",
      "C:\\Users\\lenovo\\AppData\\Local\\Temp\\ipykernel_40168\\1545241257.py:14: RuntimeWarning: invalid value encountered in scalar add\n",
      "  h+=theta1*X1[1]+theta2*X2[i]+theta3\n"
     ]
    }
   ],
   "source": [
    "theta1,theta2=J(x1,x2,y,0.01,1,1,1)"
   ]
  },
  {
   "cell_type": "code",
   "execution_count": null,
   "id": "3d3f0346",
   "metadata": {},
   "outputs": [],
   "source": [
    "print(f\"h(x)={theta1}x1+{theta2}x2+{theta3}\")"
   ]
  },
  {
   "cell_type": "markdown",
   "id": "9626b120",
   "metadata": {},
   "source": [
    "不会画图"
   ]
  },
  {
   "cell_type": "code",
   "execution_count": null,
   "id": "4b8c03d0",
   "metadata": {},
   "outputs": [],
   "source": []
  }
 ],
 "metadata": {
  "kernelspec": {
   "display_name": "Python 3 (ipykernel)",
   "language": "python",
   "name": "python3"
  },
  "language_info": {
   "codemirror_mode": {
    "name": "ipython",
    "version": 3
   },
   "file_extension": ".py",
   "mimetype": "text/x-python",
   "name": "python",
   "nbconvert_exporter": "python",
   "pygments_lexer": "ipython3",
   "version": "3.11.4"
  }
 },
 "nbformat": 4,
 "nbformat_minor": 5
}
