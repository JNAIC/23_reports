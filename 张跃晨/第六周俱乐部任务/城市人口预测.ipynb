{
 "cells": [
  {
   "cell_type": "code",
   "execution_count": 1,
   "id": "9494247d",
   "metadata": {},
   "outputs": [],
   "source": [
    "import pandas as pd\n",
    "import numpy as np\n",
    "import matplotlib.pyplot as plt"
   ]
  },
  {
   "cell_type": "code",
   "execution_count": 2,
   "id": "4801a177",
   "metadata": {},
   "outputs": [
    {
     "data": {
      "text/html": [
       "<div>\n",
       "<style scoped>\n",
       "    .dataframe tbody tr th:only-of-type {\n",
       "        vertical-align: middle;\n",
       "    }\n",
       "\n",
       "    .dataframe tbody tr th {\n",
       "        vertical-align: top;\n",
       "    }\n",
       "\n",
       "    .dataframe thead th {\n",
       "        text-align: right;\n",
       "    }\n",
       "</style>\n",
       "<table border=\"1\" class=\"dataframe\">\n",
       "  <thead>\n",
       "    <tr style=\"text-align: right;\">\n",
       "      <th></th>\n",
       "      <th>Population</th>\n",
       "      <th>Profit</th>\n",
       "    </tr>\n",
       "  </thead>\n",
       "  <tbody>\n",
       "    <tr>\n",
       "      <th>0</th>\n",
       "      <td>6.1101</td>\n",
       "      <td>17.5920</td>\n",
       "    </tr>\n",
       "    <tr>\n",
       "      <th>1</th>\n",
       "      <td>5.5277</td>\n",
       "      <td>9.1302</td>\n",
       "    </tr>\n",
       "    <tr>\n",
       "      <th>2</th>\n",
       "      <td>8.5186</td>\n",
       "      <td>13.6620</td>\n",
       "    </tr>\n",
       "    <tr>\n",
       "      <th>3</th>\n",
       "      <td>7.0032</td>\n",
       "      <td>11.8540</td>\n",
       "    </tr>\n",
       "    <tr>\n",
       "      <th>4</th>\n",
       "      <td>5.8598</td>\n",
       "      <td>6.8233</td>\n",
       "    </tr>\n",
       "  </tbody>\n",
       "</table>\n",
       "</div>"
      ],
      "text/plain": [
       "   Population   Profit\n",
       "0      6.1101  17.5920\n",
       "1      5.5277   9.1302\n",
       "2      8.5186  13.6620\n",
       "3      7.0032  11.8540\n",
       "4      5.8598   6.8233"
      ]
     },
     "execution_count": 2,
     "metadata": {},
     "output_type": "execute_result"
    }
   ],
   "source": [
    "columns=[\"Population\",\"Profit\"]\n",
    "city_data=pd.read_csv(\"D:/vscode/vscode_python/club_task/ex1data1.txt\",names=columns)\n",
    "city_data.head()"
   ]
  },
  {
   "cell_type": "code",
   "execution_count": 3,
   "id": "3b636425",
   "metadata": {},
   "outputs": [],
   "source": [
    "x_train=city_data.loc[:,\"Population\"]\n",
    "y_train=city_data.loc[:,\"Profit\"]"
   ]
  },
  {
   "cell_type": "code",
   "execution_count": 4,
   "id": "9c96744b",
   "metadata": {},
   "outputs": [
    {
     "data": {
      "text/plain": [
       "97"
      ]
     },
     "execution_count": 4,
     "metadata": {},
     "output_type": "execute_result"
    }
   ],
   "source": [
    "len(x_train)"
   ]
  },
  {
   "cell_type": "code",
   "execution_count": 5,
   "id": "d5f15c3f",
   "metadata": {},
   "outputs": [
    {
     "name": "stderr",
     "output_type": "stream",
     "text": [
      "C:\\Users\\admin\\AppData\\Roaming\\Python\\Python311\\site-packages\\IPython\\core\\pylabtools.py:152: UserWarning: Glyph 19982 (\\N{CJK UNIFIED IDEOGRAPH-4E0E}) missing from current font.\n",
      "  fig.canvas.print_figure(bytes_io, **kw)\n"
     ]
    },
    {
     "data": {
      "image/png": "[encoded data removed]",
      "text/plain": [
       "<Figure size 640x480 with 1 Axes>"
      ]
     },
     "metadata": {},
     "output_type": "display_data"
    }
   ],
   "source": [
    "plt.scatter(x_train,y_train,marker=\"x\",c=\"b\")\n",
    "plt.title(\"Population与Profit\")\n",
    "plt.xlabel(\"Population\")\n",
    "plt.ylabel(\"Profit\")\n",
    "plt.show()"
   ]
  },
  {
   "cell_type": "markdown",
   "id": "7b0e6522",
   "metadata": {},
   "source": [
    "# 定义线性回归"
   ]
  },
  {
   "cell_type": "code",
   "execution_count": 6,
   "id": "64f16142",
   "metadata": {},
   "outputs": [],
   "source": [
    "def compute_model_output(x,w,b):\n",
    "    length=len(x)\n",
    "    f_wb=np.zeros(length)\n",
    "    \n",
    "    for i in range(length):\n",
    "        f_wb=w*x[i]+b\n",
    "        \n",
    "    return f_wb"
   ]
  },
  {
   "cell_type": "markdown",
   "id": "f424aa5d",
   "metadata": {},
   "source": [
    "# 定义损失函数"
   ]
  },
  {
   "cell_type": "code",
   "execution_count": 7,
   "id": "a645ebb6",
   "metadata": {},
   "outputs": [],
   "source": [
    "def compute_cost(x,y,w,b):\n",
    "    m=len(x)\n",
    "    f_wb=np.zeros(m)\n",
    "    \n",
    "    sum_J=0\n",
    "    for i in range(m):\n",
    "        f_wb=w*x[i]+b\n",
    "        inner=(f_wb-y)**2\n",
    "        sum_J+=inner\n",
    "        cost=sum_J/(2*m)\n",
    "        \n",
    "    return cost"
   ]
  },
  {
   "cell_type": "markdown",
   "id": "027d5931",
   "metadata": {},
   "source": [
    "# 损失函数的偏导"
   ]
  },
  {
   "cell_type": "code",
   "execution_count": 8,
   "id": "f443352f",
   "metadata": {},
   "outputs": [],
   "source": [
    "def compute_gradient(x,y,w,b):\n",
    "    m=len(x)\n",
    "    f_wb=np.zeros(m)\n",
    "    \n",
    "    sum_w=0\n",
    "    sum_b=0\n",
    "    for i in range(m):\n",
    "        f_wb=w*x[i]+b\n",
    "        \n",
    "        inner_w=(f_wb-y[i])*x[i]\n",
    "        sum_w+=inner_w\n",
    "        dj_dw=sum_w/m\n",
    "        \n",
    "        inner_b=f_wb-y[i]\n",
    "        sum_b+=inner_b\n",
    "        dj_db=sum_b/m\n",
    "        \n",
    "    return dj_dw,dj_db"
   ]
  },
  {
   "cell_type": "markdown",
   "id": "50614a6a",
   "metadata": {},
   "source": [
    "# 梯度下降"
   ]
  },
  {
   "cell_type": "code",
   "execution_count": 25,
   "id": "68222b95",
   "metadata": {},
   "outputs": [],
   "source": [
    "def gradient_descent(x,y,w_init,b_init,alpha,num_iters,compute_cost,compute_gradient):\n",
    "    J_history=[]#用于存储损失函数的历史值\n",
    "    p_history=[]#用于存储w,b的值\n",
    "    \n",
    "    w=w_init\n",
    "    b=b_init\n",
    "    \n",
    "    for i in range(num_iters):\n",
    "        dj_dw,dj_db=compute_gradient(x,y,w,b)\n",
    "        \n",
    "        tem_w=w-alpha*dj_dw\n",
    "        tem_b=b-alpha*dj_db\n",
    "        w=tem_w\n",
    "        b=tem_b\n",
    "        \n",
    "        #接下来打印梯度下降相关数据\n",
    "        if i<=1000000:\n",
    "            J_history.append(compute_cost(x,y,w,b))\n",
    "            p_history.append([w,b])\n",
    "            \n",
    "        \n",
    "                  \n",
    "        return w,b,J_history,p_history"
   ]
  },
  {
   "cell_type": "markdown",
   "id": "34549ac1",
   "metadata": {},
   "source": [
    "if i%math.ceil(num_iters/10) == 0:\n",
    "            print(f\"Iteration:{i:4},cost:{compute_cost(x,y,w,b):0.3e} \" ,\n",
    "                 f\"dj_dw:{dj_dw:0.3e},dj_db:{dj_db:0.3e} \",\n",
    "                  f\"w:{w:0.3e},b:{b:0.3e}\")"
   ]
  },
  {
   "cell_type": "markdown",
   "id": "5a3b82e9",
   "metadata": {},
   "source": [
    "# 开始进行预测"
   ]
  },
  {
   "cell_type": "code",
   "execution_count": 70,
   "id": "701ad218",
   "metadata": {},
   "outputs": [
    {
     "name": "stdout",
     "output_type": "stream",
     "text": [
      "The final w is 8.3925e-01.The final b is -2.3207e-02\n"
     ]
    }
   ],
   "source": [
    "w_init=1\n",
    "b_init=0\n",
    "\n",
    "alpha=1.0e-2 \n",
    "num_iters=1000000\n",
    "\n",
    "final_w,final_b,J_history,p_history=gradient_descent(x_train,y_train,w_init,b_init,alpha,num_iters,compute_cost,compute_gradient)\n",
    "\n",
    "print(f\"The final w is {final_w:.4e}.The final b is {final_b:.4e}\")"
   ]
  },
  {
   "cell_type": "markdown",
   "id": "08355b36",
   "metadata": {},
   "source": [
    "# 最终表示结果："
   ]
  },
  {
   "cell_type": "code",
   "execution_count": 71,
   "id": "48d4a4ad",
   "metadata": {},
   "outputs": [
    {
     "name": "stdout",
     "output_type": "stream",
     "text": [
      "h(x)=-0.02321+0.8392*x\n"
     ]
    }
   ],
   "source": [
    "print(f\"h(x)={final_b:.4}+{final_w:.4}*x\")"
   ]
  },
  {
   "cell_type": "markdown",
   "id": "96df78d1",
   "metadata": {},
   "source": [
    "# 绘制回归线"
   ]
  },
  {
   "cell_type": "code",
   "execution_count": 72,
   "id": "7287440f",
   "metadata": {},
   "outputs": [
    {
     "data": {
      "image/png": "[encoded data removed]",
      "text/plain": [
       "<Figure size 640x480 with 1 Axes>"
      ]
     },
     "metadata": {},
     "output_type": "display_data"
    }
   ],
   "source": [
    "# 绘制散点图\n",
    "plt.scatter(x_train, y_train, marker=\"x\", c=\"b\", label=\"Prediction Population\")\n",
    "\n",
    "# 绘制线性回归线\n",
    "x_range = np.linspace(min(x_train), max(x_train), 100)\n",
    "y_pred = final_b + final_w * x_range\n",
    "plt.plot(x_range, y_pred, color=\"r\", label=f\"Regression Line: h(x)={final_b:.4f}+{final_w:.4f}*x\")\n",
    "\n",
    "# 设置标题和标签\n",
    "plt.title(\"Population vs Profit\")\n",
    "plt.xlabel(\"Population\")\n",
    "plt.ylabel(\"Profit\")\n",
    "\n",
    "# 添加图例\n",
    "plt.legend()\n",
    "\n",
    "# 显示图形\n",
    "plt.show()\n"
   ]
  }
 ],
 "metadata": {
  "kernelspec": {
   "display_name": "Python 3 (ipykernel)",
   "language": "python",
   "name": "python3"
  },
  "language_info": {
   "codemirror_mode": {
    "name": "ipython",
    "version": 3
   },
   "file_extension": ".py",
   "mimetype": "text/x-python",
   "name": "python",
   "nbconvert_exporter": "python",
   "pygments_lexer": "ipython3",
   "version": "3.11.5"
  }
 },
 "nbformat": 4,
 "nbformat_minor": 5
}
