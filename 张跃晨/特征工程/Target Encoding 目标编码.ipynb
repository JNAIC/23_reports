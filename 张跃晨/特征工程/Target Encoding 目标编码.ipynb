{
 "cells": [
  {
   "cell_type": "markdown",
   "id": "c13a6f3c",
   "metadata": {},
   "source": [
    "目标编码针对分类特征，而不是针对数值特征。它是一种将类别编码为数字的方法，而且还是用目标来创建编码。"
   ]
  },
  {
   "cell_type": "code",
   "execution_count": 1,
   "id": "a5249867",
   "metadata": {},
   "outputs": [],
   "source": [
    "import pandas as pd\n",
    "autos=pd.read_csv(\"D:/vscode/vscode_python/feature_engineering/data/autos.csv\")"
   ]
  },
  {
   "cell_type": "markdown",
   "id": "0c3e582e",
   "metadata": {},
   "source": [
    "# Target Encoding 目标编码"
   ]
  },
  {
   "cell_type": "markdown",
   "id": "961b6ba4",
   "metadata": {},
   "source": [
    "目标编码：用从目标派生出的某个数字来代替特征类别的任何编码"
   ]
  },
  {
   "cell_type": "code",
   "execution_count": 2,
   "id": "dd48d46a",
   "metadata": {},
   "outputs": [
    {
     "data": {
      "text/html": [
       "<div>\n",
       "<style scoped>\n",
       "    .dataframe tbody tr th:only-of-type {\n",
       "        vertical-align: middle;\n",
       "    }\n",
       "\n",
       "    .dataframe tbody tr th {\n",
       "        vertical-align: top;\n",
       "    }\n",
       "\n",
       "    .dataframe thead th {\n",
       "        text-align: right;\n",
       "    }\n",
       "</style>\n",
       "<table border=\"1\" class=\"dataframe\">\n",
       "  <thead>\n",
       "    <tr style=\"text-align: right;\">\n",
       "      <th></th>\n",
       "      <th>make</th>\n",
       "      <th>price</th>\n",
       "      <th>make_encoded</th>\n",
       "    </tr>\n",
       "  </thead>\n",
       "  <tbody>\n",
       "    <tr>\n",
       "      <th>0</th>\n",
       "      <td>alfa-romero</td>\n",
       "      <td>13495</td>\n",
       "      <td>15498.333333</td>\n",
       "    </tr>\n",
       "    <tr>\n",
       "      <th>1</th>\n",
       "      <td>alfa-romero</td>\n",
       "      <td>16500</td>\n",
       "      <td>15498.333333</td>\n",
       "    </tr>\n",
       "    <tr>\n",
       "      <th>2</th>\n",
       "      <td>alfa-romero</td>\n",
       "      <td>16500</td>\n",
       "      <td>15498.333333</td>\n",
       "    </tr>\n",
       "    <tr>\n",
       "      <th>3</th>\n",
       "      <td>audi</td>\n",
       "      <td>13950</td>\n",
       "      <td>17859.166667</td>\n",
       "    </tr>\n",
       "    <tr>\n",
       "      <th>4</th>\n",
       "      <td>audi</td>\n",
       "      <td>17450</td>\n",
       "      <td>17859.166667</td>\n",
       "    </tr>\n",
       "    <tr>\n",
       "      <th>5</th>\n",
       "      <td>audi</td>\n",
       "      <td>15250</td>\n",
       "      <td>17859.166667</td>\n",
       "    </tr>\n",
       "    <tr>\n",
       "      <th>6</th>\n",
       "      <td>audi</td>\n",
       "      <td>17710</td>\n",
       "      <td>17859.166667</td>\n",
       "    </tr>\n",
       "    <tr>\n",
       "      <th>7</th>\n",
       "      <td>audi</td>\n",
       "      <td>18920</td>\n",
       "      <td>17859.166667</td>\n",
       "    </tr>\n",
       "    <tr>\n",
       "      <th>8</th>\n",
       "      <td>audi</td>\n",
       "      <td>23875</td>\n",
       "      <td>17859.166667</td>\n",
       "    </tr>\n",
       "    <tr>\n",
       "      <th>9</th>\n",
       "      <td>bmw</td>\n",
       "      <td>16430</td>\n",
       "      <td>26118.750000</td>\n",
       "    </tr>\n",
       "  </tbody>\n",
       "</table>\n",
       "</div>"
      ],
      "text/plain": [
       "          make  price  make_encoded\n",
       "0  alfa-romero  13495  15498.333333\n",
       "1  alfa-romero  16500  15498.333333\n",
       "2  alfa-romero  16500  15498.333333\n",
       "3         audi  13950  17859.166667\n",
       "4         audi  17450  17859.166667\n",
       "5         audi  15250  17859.166667\n",
       "6         audi  17710  17859.166667\n",
       "7         audi  18920  17859.166667\n",
       "8         audi  23875  17859.166667\n",
       "9          bmw  16430  26118.750000"
      ]
     },
     "execution_count": 2,
     "metadata": {},
     "output_type": "execute_result"
    }
   ],
   "source": [
    "autos[\"make_encoded\"]=autos.groupby(\"make\")[\"price\"].transform(\"mean\")\n",
    "\n",
    "autos[[\"make\",\"price\",\"make_encoded\"]].head(10)"
   ]
  },
  {
   "cell_type": "markdown",
   "id": "5ef23462",
   "metadata": {},
   "source": [
    "这种目标编码有时称为均值编码。应用于二进制目标时，也被称为bin计数。(可能遇到的其他名称：可能性编码，影响编码，留一编码)"
   ]
  },
  {
   "cell_type": "markdown",
   "id": "36c06cd8",
   "metadata": {},
   "source": [
    "# Smoothing 平滑"
   ]
  },
  {
   "cell_type": "markdown",
   "id": "d86f1d73",
   "metadata": {},
   "source": [
    "目标编码问题：1.未知类别：目标编码会特别容易出现过拟合的风险，这意味着它们需要在一个独立的“编码”数据集上进行训练。当你将编码与未来的数据集合并时，Pandas会为编码数据集中未出现的类别填充缺失值。你需要想办法来填补这些缺失值。2.稀有类别：当某个类别在数据集中出现次数很少时，对其组内计算的任何统计信息可能不会很准确。对稀有类别进行目标编码可能会增加过拟合的风险。"
   ]
  },
  {
   "cell_type": "markdown",
   "id": "9b2f77d9",
   "metadata": {},
   "source": [
    "解决方法：添加平滑处理。思路：将类别内平均值与总体平均值进行混合。稀有类别对其类别平均值的权重较小，而缺失的类别只得到总体平均值。"
   ]
  },
  {
   "cell_type": "markdown",
   "id": "2e805be4",
   "metadata": {},
   "source": [
    "encoding=weight*in_categrory+(1-weight)*overall\n",
    "\n",
    "编码值 = 权重 * 类别内平均值 + (1 - 权重) * 总体平均值\n",
    "（权重是在0到1之间的值，根据类别频率计算得出）"
   ]
  },
  {
   "cell_type": "markdown",
   "id": "35ab5af9",
   "metadata": {},
   "source": [
    "权重 = n / (n + m);\n",
    "其中 n 是数据集中该类别出现的总次数。参数 m 决定了“平滑因子”。较大的 m 值会更多地考虑总体估计值。在选择 m 的值时，要考虑你期望类别有多大的噪声。车辆价格在每个制造商内是否会有很大的变化？你是否需要大量数据才能得出准确的估计值？如果是的话，可能更好地选择较大的 m 值；如果每个制造商的平均价格相对稳定，较小的 m 值可能就可以了。"
   ]
  },
  {
   "cell_type": "markdown",
   "id": "89a791e1",
   "metadata": {},
   "source": [
    "目标编码的使用案例包括：\n",
    "\n",
    "1.高基数特征：对于具有大量类别的特征，进行编码可能会引发问题：使用独热编码会生成过多的特征，而其他替代方法，如标签编码，可能不适用于该特征。目标编码利用特征与目标之间的关系，为类别派生数值，从而解决高基数特征的编码问题。\n",
    "\n",
    "2.领域相关特征：根据先前的经验，你可能怀疑某个分类特征即使在特征度量上得分较低，仍然应该是重要的。目标编码可以帮助揭示特征的真正信息价值，即使它在特征度量中得分不高。"
   ]
  },
  {
   "cell_type": "markdown",
   "id": "ec192b25",
   "metadata": {},
   "source": [
    "# 示例"
   ]
  },
  {
   "cell_type": "code",
   "execution_count": 5,
   "id": "7f150e9b",
   "metadata": {},
   "outputs": [
    {
     "name": "stdout",
     "output_type": "stream",
     "text": [
      "Number of Unique Zipcodes: 3439\n"
     ]
    }
   ],
   "source": [
    "import matplotlib.pyplot as plt\n",
    "import numpy as np\n",
    "import pandas as pd\n",
    "import seaborn as sns\n",
    "import warnings\n",
    "\n",
    "sns.set_style(\"whitegrid\")\n",
    "plt.rc(\"figure\", autolayout=True)\n",
    "plt.rc(\n",
    "    \"axes\",\n",
    "    labelweight=\"bold\",\n",
    "    labelsize=\"large\",\n",
    "    titleweight=\"bold\",\n",
    "    titlesize=14,\n",
    "    titlepad=10,\n",
    ")\n",
    "warnings.filterwarnings('ignore')\n",
    "\n",
    "\n",
    "df = pd.read_csv(\"D:/vscode/vscode_python/feature_engineering/data/movielens1m.csv\")\n",
    "df = df.astype(np.uint8, errors='ignore') # reduce memory footprint\n",
    "print(\"Number of Unique Zipcodes: {}\".format(df[\"Zipcode\"].nunique()))"
   ]
  },
  {
   "cell_type": "code",
   "execution_count": 9,
   "id": "c7935af7",
   "metadata": {},
   "outputs": [],
   "source": [
    "x=df.copy()\n",
    "y=x.pop(\"Rating\")\n",
    "\n",
    "x_encode=x.sample(frac=0.25)\n",
    "y_encode=y[x_encode.index]\n",
    "x_pretrain=x.drop(x_encode.index)\n",
    "y_train=y[x_pretrain.index]"
   ]
  },
  {
   "cell_type": "code",
   "execution_count": 17,
   "id": "71f4ba38",
   "metadata": {},
   "outputs": [],
   "source": [
    "from category_encoders import MEstimateEncoder\n",
    "\n",
    "encoder=MEstimateEncoder(cols=[\"Zipcode\"],m=5.0)\n",
    "\n",
    "encoder.fit(x_encode,y_encode)\n",
    "\n",
    "x_train=encoder.transform(x_pretrain)"
   ]
  },
  {
   "cell_type": "code",
   "execution_count": 21,
   "id": "1d1add82",
   "metadata": {},
   "outputs": [
    {
     "data": {
      "image/png": "[encoded data removed]",
      "text/plain": [
       "<Figure size 576x432 with 1 Axes>"
      ]
     },
     "metadata": {},
     "output_type": "display_data"
    }
   ],
   "source": [
    "#将目标值与编码值比较\n",
    "\n",
    "plt.figure(dpi=90)\n",
    "ax = sns.distplot(y, kde=False, norm_hist=True)\n",
    "ax = sns.kdeplot(x_train.Zipcode, color='r', ax=ax)\n",
    "ax.set_xlabel(\"Rating\")\n",
    "ax.legend(labels=['Zipcode', 'Rating']);\n"
   ]
  }
 ],
 "metadata": {
  "kernelspec": {
   "display_name": "Python 3 (ipykernel)",
   "language": "python",
   "name": "python3"
  },
  "language_info": {
   "codemirror_mode": {
    "name": "ipython",
    "version": 3
   },
   "file_extension": ".py",
   "mimetype": "text/x-python",
   "name": "python",
   "nbconvert_exporter": "python",
   "pygments_lexer": "ipython3",
   "version": "3.11.5"
  }
 },
 "nbformat": 4,
 "nbformat_minor": 5
}
