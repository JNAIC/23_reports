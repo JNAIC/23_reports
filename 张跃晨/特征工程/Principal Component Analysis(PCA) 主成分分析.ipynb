{
 "cells": [
  {
   "cell_type": "markdown",
   "id": "e56bb39e",
   "metadata": {},
   "source": [
    "PCA可视为对数据变化的分区；PCA通常应用于标准化数据(对于标准化数据，变化意味着相关性；对于非标准化数据，变化意味着协方差)"
   ]
  },
  {
   "cell_type": "markdown",
   "id": "9cad16cb",
   "metadata": {},
   "source": [
    "# 主成分分析Principal Component Analysis"
   ]
  },
  {
   "cell_type": "markdown",
   "id": "b266affa",
   "metadata": {},
   "source": [
    "PCA理念：不是用原始特征描述数据，而是用其变化轴描述它。变化轴就成为了新的特征。"
   ]
  },
  {
   "cell_type": "markdown",
   "id": "b57c54d0",
   "metadata": {},
   "source": [
    "PCA构造的新特征实际上只是原始特征的线性组合(加权和)。"
   ]
  },
  {
   "cell_type": "markdown",
   "id": "2ef9163e",
   "metadata": {},
   "source": [
    "df[\"Size\"] = 0.707 * X[\"Height\"] + 0.707 * X[\"Diameter\"]；df[\"Shape\"] = 0.707 * X[\"Height\"] - 0.707 * X[\"Diameter\"]\n",
    "例子中的新特征构建(其实很好理解，线性关系一次函数可以用横纵坐标表示)"
   ]
  },
  {
   "cell_type": "markdown",
   "id": "95a90d64",
   "metadata": {},
   "source": [
    "这些新特征称为数据的主成分。权重本身称为载荷。主成分与原始数据集中特征数量一样多"
   ]
  },
  {
   "cell_type": "markdown",
   "id": "dfcaf4ee",
   "metadata": {},
   "source": [
    "# 面向特征工程的PCA PCA for Feature Engineering"
   ]
  },
  {
   "cell_type": "markdown",
   "id": "918b84d3",
   "metadata": {},
   "source": [
    "方法一：将其作为一种描述性技术。由于组分显示了变化，因此可以计算分量的MI分数，并查看哪种变化最能预测你的目标。例如，如果“尺寸”很重要，则为“高度”和“直径”的乘积，如果“形状”很重要，则为“高度”和“直径”的比率。还可以尝试在一个或多个高分组分上进行聚类。"
   ]
  },
  {
   "cell_type": "markdown",
   "id": "6c57f852",
   "metadata": {},
   "source": [
    "方法二：将组分本身作为特征，由于组分直接公开了数据的变化结构，因此它们通常比原始特征更具有信息性。1.降维：当特征高度冗余时(特别是多重共线)，PCA会将冗余划分为一个或多个接近0方差的分量然后可以删除这些分量，因为他们几乎不包含信息；2.异常检测：从原始特征中不明显的异常变化通常会出现在低方差分量中，这些分量在异常或异常值检测时具有很高的信息量；3.降噪：传感器读数的集合通常会共享一些共同的背景噪声。PCA有时可以将(信息性)信号收集到较少的特征中，而不受噪声的影响，提高信噪比；4.去相关：一些ML算法在处理高度相关的特征时会遇到困难，PCA可以将相关的特征转化为不相关的成分，便于算法处理。"
   ]
  },
  {
   "cell_type": "markdown",
   "id": "a49bec10",
   "metadata": {},
   "source": [
    "PCA最佳实践：1.仅适用于数字特征，如连续数量或计数；2.PCA对比例很敏感，最好在应用PCA前对数据进行标准化；3.考虑删除或约束异常值。"
   ]
  },
  {
   "cell_type": "markdown",
   "id": "73215cd0",
   "metadata": {},
   "source": [
    "# 示例"
   ]
  },
  {
   "cell_type": "code",
   "execution_count": 4,
   "id": "5504123f",
   "metadata": {},
   "outputs": [],
   "source": [
    "import matplotlib.pyplot as plt\n",
    "import numpy as np\n",
    "import pandas as pd\n",
    "import seaborn as sns\n",
    "from IPython.display import display\n",
    "from sklearn.feature_selection import mutual_info_regression\n",
    "\n",
    "\n",
    "sns.set_style(\"whitegrid\")\n",
    "plt.rc(\"figure\", autolayout=True)\n",
    "plt.rc(\n",
    "    \"axes\",\n",
    "    labelweight=\"bold\",\n",
    "    labelsize=\"large\",\n",
    "    titleweight=\"bold\",\n",
    "    titlesize=14,\n",
    "    titlepad=10,\n",
    ")\n",
    "\n",
    "\n",
    "def plot_variance(pca, width=8, dpi=100):\n",
    "    # Create figure\n",
    "    fig, axs = plt.subplots(1, 2)\n",
    "    n = pca.n_components_\n",
    "    grid = np.arange(1, n + 1)\n",
    "    # Explained variance\n",
    "    evr = pca.explained_variance_ratio_\n",
    "    axs[0].bar(grid, evr)\n",
    "    axs[0].set(\n",
    "        xlabel=\"Component\", title=\"% Explained Variance\", ylim=(0.0, 1.0)\n",
    "    )\n",
    "    # Cumulative Variance\n",
    "    cv = np.cumsum(evr)\n",
    "    axs[1].plot(np.r_[0, grid], np.r_[0, cv], \"o-\")\n",
    "    axs[1].set(\n",
    "        xlabel=\"Component\", title=\"% Cumulative Variance\", ylim=(0.0, 1.0)\n",
    "    )\n",
    "    # Set up figure\n",
    "    fig.set(figwidth=8, dpi=100)\n",
    "    return axs\n",
    "\n",
    "def make_mi_scores(X, y, discrete_features):\n",
    "    mi_scores = mutual_info_regression(X, y, discrete_features=discrete_features)\n",
    "    mi_scores = pd.Series(mi_scores, name=\"MI Scores\", index=X.columns)\n",
    "    mi_scores = mi_scores.sort_values(ascending=False)\n",
    "    return mi_scores\n",
    "\n",
    "\n",
    "df = pd.read_csv(\"D:/vscode/vscode_python/feature_engineering/data/autos.csv\")"
   ]
  },
  {
   "cell_type": "code",
   "execution_count": 6,
   "id": "da1320ab",
   "metadata": {},
   "outputs": [],
   "source": [
    "features=[\"highway_mpg\",\"engine_size\",\"horsepower\",\"curb_weight\"]\n",
    "\n",
    "X=df.copy()\n",
    "y=X.pop(\"price\")\n",
    "X=X.loc[:,features]\n",
    "\n",
    "#数据标准化：X-X平均值/X标准差\n",
    "X_scaled=(X-X.mean(axis=0))/X.std(axis=0)"
   ]
  },
  {
   "cell_type": "code",
   "execution_count": 8,
   "id": "ffdde7fc",
   "metadata": {},
   "outputs": [
    {
     "data": {
      "text/html": [
       "<div>\n",
       "<style scoped>\n",
       "    .dataframe tbody tr th:only-of-type {\n",
       "        vertical-align: middle;\n",
       "    }\n",
       "\n",
       "    .dataframe tbody tr th {\n",
       "        vertical-align: top;\n",
       "    }\n",
       "\n",
       "    .dataframe thead th {\n",
       "        text-align: right;\n",
       "    }\n",
       "</style>\n",
       "<table border=\"1\" class=\"dataframe\">\n",
       "  <thead>\n",
       "    <tr style=\"text-align: right;\">\n",
       "      <th></th>\n",
       "      <th>PC1</th>\n",
       "      <th>PC2</th>\n",
       "      <th>PC3</th>\n",
       "      <th>PC4</th>\n",
       "    </tr>\n",
       "  </thead>\n",
       "  <tbody>\n",
       "    <tr>\n",
       "      <th>0</th>\n",
       "      <td>0.382486</td>\n",
       "      <td>-0.400222</td>\n",
       "      <td>0.124122</td>\n",
       "      <td>0.169539</td>\n",
       "    </tr>\n",
       "    <tr>\n",
       "      <th>1</th>\n",
       "      <td>0.382486</td>\n",
       "      <td>-0.400222</td>\n",
       "      <td>0.124122</td>\n",
       "      <td>0.169539</td>\n",
       "    </tr>\n",
       "    <tr>\n",
       "      <th>2</th>\n",
       "      <td>1.550890</td>\n",
       "      <td>-0.107175</td>\n",
       "      <td>0.598361</td>\n",
       "      <td>-0.256081</td>\n",
       "    </tr>\n",
       "    <tr>\n",
       "      <th>3</th>\n",
       "      <td>-0.408859</td>\n",
       "      <td>-0.425947</td>\n",
       "      <td>0.243335</td>\n",
       "      <td>0.013920</td>\n",
       "    </tr>\n",
       "    <tr>\n",
       "      <th>4</th>\n",
       "      <td>1.132749</td>\n",
       "      <td>-0.814565</td>\n",
       "      <td>-0.202885</td>\n",
       "      <td>0.224138</td>\n",
       "    </tr>\n",
       "    <tr>\n",
       "      <th>...</th>\n",
       "      <td>...</td>\n",
       "      <td>...</td>\n",
       "      <td>...</td>\n",
       "      <td>...</td>\n",
       "    </tr>\n",
       "    <tr>\n",
       "      <th>188</th>\n",
       "      <td>0.869097</td>\n",
       "      <td>-0.033610</td>\n",
       "      <td>-0.322867</td>\n",
       "      <td>-0.169687</td>\n",
       "    </tr>\n",
       "    <tr>\n",
       "      <th>189</th>\n",
       "      <td>1.784896</td>\n",
       "      <td>-0.335345</td>\n",
       "      <td>0.407270</td>\n",
       "      <td>-0.652607</td>\n",
       "    </tr>\n",
       "    <tr>\n",
       "      <th>190</th>\n",
       "      <td>1.938892</td>\n",
       "      <td>-0.096703</td>\n",
       "      <td>-0.051044</td>\n",
       "      <td>0.275515</td>\n",
       "    </tr>\n",
       "    <tr>\n",
       "      <th>191</th>\n",
       "      <td>1.137520</td>\n",
       "      <td>-0.032469</td>\n",
       "      <td>-0.826623</td>\n",
       "      <td>-0.219731</td>\n",
       "    </tr>\n",
       "    <tr>\n",
       "      <th>192</th>\n",
       "      <td>1.190875</td>\n",
       "      <td>-0.349264</td>\n",
       "      <td>-0.495411</td>\n",
       "      <td>-0.103812</td>\n",
       "    </tr>\n",
       "  </tbody>\n",
       "</table>\n",
       "<p>193 rows × 4 columns</p>\n",
       "</div>"
      ],
      "text/plain": [
       "          PC1       PC2       PC3       PC4\n",
       "0    0.382486 -0.400222  0.124122  0.169539\n",
       "1    0.382486 -0.400222  0.124122  0.169539\n",
       "2    1.550890 -0.107175  0.598361 -0.256081\n",
       "3   -0.408859 -0.425947  0.243335  0.013920\n",
       "4    1.132749 -0.814565 -0.202885  0.224138\n",
       "..        ...       ...       ...       ...\n",
       "188  0.869097 -0.033610 -0.322867 -0.169687\n",
       "189  1.784896 -0.335345  0.407270 -0.652607\n",
       "190  1.938892 -0.096703 -0.051044  0.275515\n",
       "191  1.137520 -0.032469 -0.826623 -0.219731\n",
       "192  1.190875 -0.349264 -0.495411 -0.103812\n",
       "\n",
       "[193 rows x 4 columns]"
      ]
     },
     "execution_count": 8,
     "metadata": {},
     "output_type": "execute_result"
    }
   ],
   "source": [
    "#拟合主成分：\n",
    "from sklearn.decomposition import PCA\n",
    "\n",
    "#创建主成分：\n",
    "pca=PCA()\n",
    "X_pca=pca.fit_transform(X_scaled)\n",
    "\n",
    "component_names=[f\"PC{i+1}\"for i in range(X_pca.shape[1])]\n",
    "X_pca=pd.DataFrame(X_pca,columns=component_names)\n",
    "\n",
    "X_pca"
   ]
  },
  {
   "cell_type": "code",
   "execution_count": 10,
   "id": "a5ef991d",
   "metadata": {},
   "outputs": [
    {
     "data": {
      "text/html": [
       "<div>\n",
       "<style scoped>\n",
       "    .dataframe tbody tr th:only-of-type {\n",
       "        vertical-align: middle;\n",
       "    }\n",
       "\n",
       "    .dataframe tbody tr th {\n",
       "        vertical-align: top;\n",
       "    }\n",
       "\n",
       "    .dataframe thead th {\n",
       "        text-align: right;\n",
       "    }\n",
       "</style>\n",
       "<table border=\"1\" class=\"dataframe\">\n",
       "  <thead>\n",
       "    <tr style=\"text-align: right;\">\n",
       "      <th></th>\n",
       "      <th>PC1</th>\n",
       "      <th>PC2</th>\n",
       "      <th>PC3</th>\n",
       "      <th>PC4</th>\n",
       "    </tr>\n",
       "  </thead>\n",
       "  <tbody>\n",
       "    <tr>\n",
       "      <th>highway_mpg</th>\n",
       "      <td>-0.492347</td>\n",
       "      <td>0.770892</td>\n",
       "      <td>0.070142</td>\n",
       "      <td>-0.397996</td>\n",
       "    </tr>\n",
       "    <tr>\n",
       "      <th>engine_size</th>\n",
       "      <td>0.503859</td>\n",
       "      <td>0.626709</td>\n",
       "      <td>0.019960</td>\n",
       "      <td>0.594107</td>\n",
       "    </tr>\n",
       "    <tr>\n",
       "      <th>horsepower</th>\n",
       "      <td>0.500448</td>\n",
       "      <td>0.013788</td>\n",
       "      <td>0.731093</td>\n",
       "      <td>-0.463534</td>\n",
       "    </tr>\n",
       "    <tr>\n",
       "      <th>curb_weight</th>\n",
       "      <td>0.503262</td>\n",
       "      <td>0.113008</td>\n",
       "      <td>-0.678369</td>\n",
       "      <td>-0.523232</td>\n",
       "    </tr>\n",
       "  </tbody>\n",
       "</table>\n",
       "</div>"
      ],
      "text/plain": [
       "                  PC1       PC2       PC3       PC4\n",
       "highway_mpg -0.492347  0.770892  0.070142 -0.397996\n",
       "engine_size  0.503859  0.626709  0.019960  0.594107\n",
       "horsepower   0.500448  0.013788  0.731093 -0.463534\n",
       "curb_weight  0.503262  0.113008 -0.678369 -0.523232"
      ]
     },
     "execution_count": 10,
     "metadata": {},
     "output_type": "execute_result"
    }
   ],
   "source": [
    "loadings=pd.DataFrame(\n",
    "    pca.components_.T,\n",
    "    columns=component_names,\n",
    "    index=X.columns,\n",
    ")\n",
    "\n",
    "loadings"
   ]
  },
  {
   "cell_type": "code",
   "execution_count": 11,
   "id": "630d4ded",
   "metadata": {},
   "outputs": [
    {
     "data": {
      "text/plain": [
       "array([<Axes: title={'center': '% Explained Variance'}, xlabel='Component'>,\n",
       "       <Axes: title={'center': '% Cumulative Variance'}, xlabel='Component'>],\n",
       "      dtype=object)"
      ]
     },
     "execution_count": 11,
     "metadata": {},
     "output_type": "execute_result"
    },
    {
     "data": {
      "image/png": "[encoded data removed]",
      "text/plain": [
       "<Figure size 800x480 with 2 Axes>"
      ]
     },
     "metadata": {},
     "output_type": "display_data"
    }
   ],
   "source": [
    "plot_variance(pca)"
   ]
  },
  {
   "cell_type": "code",
   "execution_count": 12,
   "id": "c9e64da0",
   "metadata": {},
   "outputs": [
    {
     "data": {
      "text/plain": [
       "PC1    1.013217\n",
       "PC2    0.379198\n",
       "PC3    0.306273\n",
       "PC4    0.204371\n",
       "Name: MI Scores, dtype: float64"
      ]
     },
     "execution_count": 12,
     "metadata": {},
     "output_type": "execute_result"
    }
   ],
   "source": [
    "mi_scores=make_mi_scores(X_pca,y,discrete_features=False)\n",
    "mi_scores"
   ]
  },
  {
   "cell_type": "code",
   "execution_count": 14,
   "id": "5a2d7776",
   "metadata": {},
   "outputs": [
    {
     "data": {
      "text/html": [
       "<div>\n",
       "<style scoped>\n",
       "    .dataframe tbody tr th:only-of-type {\n",
       "        vertical-align: middle;\n",
       "    }\n",
       "\n",
       "    .dataframe tbody tr th {\n",
       "        vertical-align: top;\n",
       "    }\n",
       "\n",
       "    .dataframe thead th {\n",
       "        text-align: right;\n",
       "    }\n",
       "</style>\n",
       "<table border=\"1\" class=\"dataframe\">\n",
       "  <thead>\n",
       "    <tr style=\"text-align: right;\">\n",
       "      <th></th>\n",
       "      <th>make</th>\n",
       "      <th>body_style</th>\n",
       "      <th>horsepower</th>\n",
       "      <th>curb_weight</th>\n",
       "    </tr>\n",
       "  </thead>\n",
       "  <tbody>\n",
       "    <tr>\n",
       "      <th>117</th>\n",
       "      <td>porsche</td>\n",
       "      <td>hardtop</td>\n",
       "      <td>207</td>\n",
       "      <td>2756</td>\n",
       "    </tr>\n",
       "    <tr>\n",
       "      <th>118</th>\n",
       "      <td>porsche</td>\n",
       "      <td>hardtop</td>\n",
       "      <td>207</td>\n",
       "      <td>2756</td>\n",
       "    </tr>\n",
       "    <tr>\n",
       "      <th>119</th>\n",
       "      <td>porsche</td>\n",
       "      <td>convertible</td>\n",
       "      <td>207</td>\n",
       "      <td>2800</td>\n",
       "    </tr>\n",
       "    <tr>\n",
       "      <th>45</th>\n",
       "      <td>jaguar</td>\n",
       "      <td>sedan</td>\n",
       "      <td>262</td>\n",
       "      <td>3950</td>\n",
       "    </tr>\n",
       "    <tr>\n",
       "      <th>96</th>\n",
       "      <td>nissan</td>\n",
       "      <td>hatchback</td>\n",
       "      <td>200</td>\n",
       "      <td>3139</td>\n",
       "    </tr>\n",
       "    <tr>\n",
       "      <th>...</th>\n",
       "      <td>...</td>\n",
       "      <td>...</td>\n",
       "      <td>...</td>\n",
       "      <td>...</td>\n",
       "    </tr>\n",
       "    <tr>\n",
       "      <th>59</th>\n",
       "      <td>mercedes-benz</td>\n",
       "      <td>wagon</td>\n",
       "      <td>123</td>\n",
       "      <td>3750</td>\n",
       "    </tr>\n",
       "    <tr>\n",
       "      <th>61</th>\n",
       "      <td>mercedes-benz</td>\n",
       "      <td>sedan</td>\n",
       "      <td>123</td>\n",
       "      <td>3770</td>\n",
       "    </tr>\n",
       "    <tr>\n",
       "      <th>101</th>\n",
       "      <td>peugot</td>\n",
       "      <td>wagon</td>\n",
       "      <td>95</td>\n",
       "      <td>3430</td>\n",
       "    </tr>\n",
       "    <tr>\n",
       "      <th>105</th>\n",
       "      <td>peugot</td>\n",
       "      <td>wagon</td>\n",
       "      <td>95</td>\n",
       "      <td>3485</td>\n",
       "    </tr>\n",
       "    <tr>\n",
       "      <th>143</th>\n",
       "      <td>toyota</td>\n",
       "      <td>wagon</td>\n",
       "      <td>62</td>\n",
       "      <td>3110</td>\n",
       "    </tr>\n",
       "  </tbody>\n",
       "</table>\n",
       "<p>193 rows × 4 columns</p>\n",
       "</div>"
      ],
      "text/plain": [
       "              make   body_style  horsepower  curb_weight\n",
       "117        porsche      hardtop         207         2756\n",
       "118        porsche      hardtop         207         2756\n",
       "119        porsche  convertible         207         2800\n",
       "45          jaguar        sedan         262         3950\n",
       "96          nissan    hatchback         200         3139\n",
       "..             ...          ...         ...          ...\n",
       "59   mercedes-benz        wagon         123         3750\n",
       "61   mercedes-benz        sedan         123         3770\n",
       "101         peugot        wagon          95         3430\n",
       "105         peugot        wagon          95         3485\n",
       "143         toyota        wagon          62         3110\n",
       "\n",
       "[193 rows x 4 columns]"
      ]
     },
     "execution_count": 14,
     "metadata": {},
     "output_type": "execute_result"
    }
   ],
   "source": [
    "idx=X_pca[\"PC3\"].sort_values(ascending=False).index\n",
    "cols=[\"make\",\"body_style\",\"horsepower\",\"curb_weight\"]\n",
    "df.loc[idx,cols]"
   ]
  },
  {
   "cell_type": "code",
   "execution_count": 15,
   "id": "fa8b1d28",
   "metadata": {},
   "outputs": [
    {
     "data": {
      "text/plain": [
       "<Axes: xlabel='sports_or_wagon', ylabel='price'>"
      ]
     },
     "execution_count": 15,
     "metadata": {},
     "output_type": "execute_result"
    },
    {
     "data": {
      "image/png": "[encoded data removed]",
      "text/plain": [
       "<Figure size 640x480 with 1 Axes>"
      ]
     },
     "metadata": {},
     "output_type": "display_data"
    }
   ],
   "source": [
    "df[\"sports_or_wagon\"]=X.curb_weight/X.horsepower\n",
    "sns.regplot(x=\"sports_or_wagon\",y=\"price\",data=df,order=2)"
   ]
  }
 ],
 "metadata": {
  "kernelspec": {
   "display_name": "Python 3 (ipykernel)",
   "language": "python",
   "name": "python3"
  },
  "language_info": {
   "codemirror_mode": {
    "name": "ipython",
    "version": 3
   },
   "file_extension": ".py",
   "mimetype": "text/x-python",
   "name": "python",
   "nbconvert_exporter": "python",
   "pygments_lexer": "ipython3",
   "version": "3.11.5"
  }
 },
 "nbformat": 4,
 "nbformat_minor": 5
}
