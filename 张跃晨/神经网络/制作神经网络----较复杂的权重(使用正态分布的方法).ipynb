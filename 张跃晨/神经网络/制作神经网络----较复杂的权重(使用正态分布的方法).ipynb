{
 "cells": [
  {
   "cell_type": "code",
   "execution_count": null,
   "id": "737e6b67",
   "metadata": {},
   "outputs": [],
   "source": [
    "#使用正态分布更新权重\n",
    "self.wih=np.random.normal(0.0,pow(self.hnodes,-0.5),(self.hnodes,self.inodes))\n",
    "self.who=np.random.normal(0.0,pow(self.onodes,-0.5),(self.onodes,self.hnodes))\n",
    "\"\"\"其中pow 函数用于计算幂次方，其中 base 是底数，exponent 是指数。这将计算 base 的 exponent 次方的结果\n",
    "在该代码中，pow 函数用于计算权重初始化时的标准差\"\"\""
   ]
  }
 ],
 "metadata": {
  "kernelspec": {
   "display_name": "Python 3 (ipykernel)",
   "language": "python",
   "name": "python3"
  },
  "language_info": {
   "codemirror_mode": {
    "name": "ipython",
    "version": 3
   },
   "file_extension": ".py",
   "mimetype": "text/x-python",
   "name": "python",
   "nbconvert_exporter": "python",
   "pygments_lexer": "ipython3",
   "version": "3.11.5"
  }
 },
 "nbformat": 4,
 "nbformat_minor": 5
}
