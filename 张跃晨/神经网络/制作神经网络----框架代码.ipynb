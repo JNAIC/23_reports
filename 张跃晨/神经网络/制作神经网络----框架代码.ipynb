{
 "cells": [
  {
   "cell_type": "code",
   "execution_count": null,
   "id": "25a54d58",
   "metadata": {},
   "outputs": [],
   "source": [
    "class neuralNetwork():\n",
    "    def __init__():\n",
    "        \n",
    "        \n",
    "        pass\n",
    "    \n",
    "    def query():\n",
    "        \n",
    "        \n",
    "        pass"
   ]
  }
 ],
 "metadata": {
  "kernelspec": {
   "display_name": "Python 3 (ipykernel)",
   "language": "python",
   "name": "python3"
  },
  "language_info": {
   "codemirror_mode": {
    "name": "ipython",
    "version": 3
   },
   "file_extension": ".py",
   "mimetype": "text/x-python",
   "name": "python",
   "nbconvert_exporter": "python",
   "pygments_lexer": "ipython3",
   "version": "3.11.5"
  }
 },
 "nbformat": 4,
 "nbformat_minor": 5
}
