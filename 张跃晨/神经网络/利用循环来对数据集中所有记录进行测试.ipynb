{
 "cells": [
  {
   "cell_type": "code",
   "execution_count": null,
   "id": "9e7d25c6",
   "metadata": {},
   "outputs": [],
   "source": [
    "#创建一个空列表，即计分卡\n",
    "scorecard=[]\n",
    "\n",
    "#运用循环遍历数据集\n",
    "for record in test_data_list:\n",
    "    all_values=record.split(\",\")\n",
    "    correct_label=int(all_values[0])\n",
    "    print(correct_label,\"correct label\")\n",
    "    inputs=(np.asfarray(all_values[1:])/255.0*0.99)+0.01\n",
    "    outputs=n.query(inputs)\n",
    "    label=np.argmax(outputs)\n",
    "    print(label,\"network's answer\")\n",
    "    \n",
    "    if label == correct_label:\n",
    "        scorecard.append(1)\n",
    "    else:\n",
    "        scorecard.append(0)"
   ]
  },
  {
   "cell_type": "code",
   "execution_count": 1,
   "id": "d1699f59",
   "metadata": {},
   "outputs": [
    {
     "ename": "NameError",
     "evalue": "name 'np' is not defined",
     "output_type": "error",
     "traceback": [
      "\u001b[1;31m---------------------------------------------------------------------------\u001b[0m",
      "\u001b[1;31mNameError\u001b[0m                                 Traceback (most recent call last)",
      "Cell \u001b[1;32mIn[1], line 2\u001b[0m\n\u001b[0;32m      1\u001b[0m \u001b[38;5;66;03m#将测试成绩作为分数打印出来\u001b[39;00m\n\u001b[1;32m----> 2\u001b[0m scorecard_array\u001b[38;5;241m=\u001b[39m\u001b[43mnp\u001b[49m\u001b[38;5;241m.\u001b[39masfarray(scorecard)\n\u001b[0;32m      3\u001b[0m \u001b[38;5;28mprint\u001b[39m(\u001b[38;5;124m\"\u001b[39m\u001b[38;5;124mperformce=\u001b[39m\u001b[38;5;124m\"\u001b[39m,scorecard_array\u001b[38;5;241m.\u001b[39msum()\u001b[38;5;241m/\u001b[39mscorecard_array\u001b[38;5;241m.\u001b[39msize)\n",
      "\u001b[1;31mNameError\u001b[0m: name 'np' is not defined"
     ]
    }
   ],
   "source": [
    "#将测试成绩作为分数打印出来\n",
    "scorecard_array=np.asfarray(scorecard)\n",
    "print(\"performce=\",scorecard_array.sum()/scorecard_array.size)"
   ]
  },
  {
   "cell_type": "code",
   "execution_count": null,
   "id": "3f95a81b",
   "metadata": {},
   "outputs": [],
   "source": []
  }
 ],
 "metadata": {
  "kernelspec": {
   "display_name": "Python 3 (ipykernel)",
   "language": "python",
   "name": "python3"
  },
  "language_info": {
   "codemirror_mode": {
    "name": "ipython",
    "version": 3
   },
   "file_extension": ".py",
   "mimetype": "text/x-python",
   "name": "python",
   "nbconvert_exporter": "python",
   "pygments_lexer": "ipython3",
   "version": "3.11.5"
  }
 },
 "nbformat": 4,
 "nbformat_minor": 5
}
