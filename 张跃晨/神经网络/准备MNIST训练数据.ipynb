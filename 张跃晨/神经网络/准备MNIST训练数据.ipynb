{
 "cells": [
  {
   "cell_type": "code",
   "execution_count": 1,
   "id": "0b4ce97c",
   "metadata": {
    "scrolled": true
   },
   "outputs": [
    {
     "ename": "NameError",
     "evalue": "name 'np' is not defined",
     "output_type": "error",
     "traceback": [
      "\u001b[1;31m---------------------------------------------------------------------------\u001b[0m",
      "\u001b[1;31mNameError\u001b[0m                                 Traceback (most recent call last)",
      "Cell \u001b[1;32mIn[1], line 2\u001b[0m\n\u001b[0;32m      1\u001b[0m \u001b[38;5;124;03m\"\"\"原始颜色值为0-255，转化为0.01-1.0，先除以255，再乘0.99，在加0.01\"\"\"\u001b[39;00m\n\u001b[1;32m----> 2\u001b[0m scaled_input\u001b[38;5;241m=\u001b[39m\u001b[43mnp\u001b[49m\u001b[38;5;241m.\u001b[39masfarray(all_values[\u001b[38;5;241m1\u001b[39m:]\u001b[38;5;241m/\u001b[39m\u001b[38;5;241m255.0\u001b[39m\u001b[38;5;241m*\u001b[39m\u001b[38;5;241m0.99\u001b[39m)\u001b[38;5;241m+\u001b[39m\u001b[38;5;241m0.01\u001b[39m\n\u001b[0;32m      3\u001b[0m \u001b[38;5;28mprint\u001b[39m(scaled_input)\n",
      "\u001b[1;31mNameError\u001b[0m: name 'np' is not defined"
     ]
    }
   ],
   "source": [
    "\"\"\"原始颜色值为0-255，转化为0.01-1.0，先除以255，再乘0.99，在加0.01\"\"\"\n",
    "scaled_input=np.asfarray(all_values[1:]/255.0*0.99)+0.01\n",
    "print(scaled_input)"
   ]
  },
  {
   "cell_type": "code",
   "execution_count": null,
   "id": "49a65e9d",
   "metadata": {},
   "outputs": [],
   "source": [
    "#构建目标矩阵，使得在某个数字那里响应最大\n",
    "\"\"\"将输出节点的数量设置为10\"\"\"\n",
    "onodes=10\n",
    "\n",
    "\"\"\"得到一个简单的，且长度为onodes的数组\"\"\"\n",
    "targets=np.zeros(onodes)+0.01\n",
    "\n",
    "\"\"\"提取数据集的第一个元素，将目标列表的正确元素设置为0.99\"\"\"\n",
    "targets[int(all_values[0])]=0.99\n",
    "\n",
    "print(targets)"
   ]
  }
 ],
 "metadata": {
  "kernelspec": {
   "display_name": "Python 3 (ipykernel)",
   "language": "python",
   "name": "python3"
  },
  "language_info": {
   "codemirror_mode": {
    "name": "ipython",
    "version": 3
   },
   "file_extension": ".py",
   "mimetype": "text/x-python",
   "name": "python",
   "nbconvert_exporter": "python",
   "pygments_lexer": "ipython3",
   "version": "3.11.5"
  }
 },
 "nbformat": 4,
 "nbformat_minor": 5
}
