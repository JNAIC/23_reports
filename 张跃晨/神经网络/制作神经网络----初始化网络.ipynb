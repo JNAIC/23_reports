{
 "cells": [
  {
   "cell_type": "code",
   "execution_count": null,
   "id": "8e753b94",
   "metadata": {},
   "outputs": [],
   "source": [
    "#定义神经网络类\n",
    "class neuralNetwork():\n",
    "    def __init__(self,inputnodes,hiddennodes,outoutnodes,learningrate):\n",
    "        self.inodes=inputnodes\n",
    "        self.hnodes=hiddennodes\n",
    "        self.onodes=outputnodes\n",
    "        self.lr=learningrate\n",
    "\n",
    "#使用神经网络类尝试创建每层3个节点，学习率为0.5的小型神经网络对象\n",
    "input_nodes=3\n",
    "hidden_nodes=3\n",
    "output_nodes=3\n",
    "\n",
    "learning_rate=0.5\n",
    "\n",
    "\"\"\"导入这些属性\"\"\"\n",
    "n=neuralNetwork(input_nodes,hidden_nodes,output_nodes,learning_rate)"
   ]
  }
 ],
 "metadata": {
  "kernelspec": {
   "display_name": "Python 3 (ipykernel)",
   "language": "python",
   "name": "python3"
  },
  "language_info": {
   "codemirror_mode": {
    "name": "ipython",
    "version": 3
   },
   "file_extension": ".py",
   "mimetype": "text/x-python",
   "name": "python",
   "nbconvert_exporter": "python",
   "pygments_lexer": "ipython3",
   "version": "3.11.5"
  }
 },
 "nbformat": 4,
 "nbformat_minor": 5
}
