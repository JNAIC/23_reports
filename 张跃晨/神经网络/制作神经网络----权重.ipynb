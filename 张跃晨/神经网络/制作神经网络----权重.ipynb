{
 "cells": [
  {
   "cell_type": "code",
   "execution_count": 4,
   "id": "56055118",
   "metadata": {},
   "outputs": [],
   "source": [
    "#使用numpy生成数组，数组中的元素为0-1的随机数，数组大小为rows*columns\n",
    "import numpy as np\n",
    "arr_start=np.random.rand(3,3)"
   ]
  },
  {
   "cell_type": "code",
   "execution_count": 5,
   "id": "fcbf1ea4",
   "metadata": {},
   "outputs": [
    {
     "data": {
      "text/plain": [
       "array([[-0.49274002, -0.48995953, -0.19701477],\n",
       "       [-0.36399249, -0.21516211, -0.42315751],\n",
       "       [ 0.10150154,  0.3780946 ,  0.13740127]])"
      ]
     },
     "execution_count": 5,
     "metadata": {},
     "output_type": "execute_result"
    }
   ],
   "source": [
    "\"\"\"权重范围在-1--1，为简单起见，直接减去0.5\"\"\"\n",
    "arr_start-0.5"
   ]
  },
  {
   "cell_type": "markdown",
   "id": "2d2aea49",
   "metadata": {},
   "source": [
    "#创建链接权重矩阵\n",
    "self.wih=(np.random.rand(self.hnodes,self.inodes)-0.5)\n",
    "self.who=(np.random.rand(self.onodes,self.hnodes)-0.5)"
   ]
  }
 ],
 "metadata": {
  "kernelspec": {
   "display_name": "Python 3 (ipykernel)",
   "language": "python",
   "name": "python3"
  },
  "language_info": {
   "codemirror_mode": {
    "name": "ipython",
    "version": 3
   },
   "file_extension": ".py",
   "mimetype": "text/x-python",
   "name": "python",
   "nbconvert_exporter": "python",
   "pygments_lexer": "ipython3",
   "version": "3.11.5"
  }
 },
 "nbformat": 4,
 "nbformat_minor": 5
}
