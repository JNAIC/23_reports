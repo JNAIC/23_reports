{
 "cells": [
  {
   "cell_type": "code",
   "execution_count": null,
   "id": "651b7356",
   "metadata": {},
   "outputs": [],
   "source": [
    "#第一步：完成矩阵乘法，计算出隐藏层的输入矩阵\n",
    "\"\"\"X(hidden)=W(input_hidden)·I(input)\"\"\"\n",
    "hidden_inputs=np.dot(self.wih,inputs)"
   ]
  },
  {
   "cell_type": "code",
   "execution_count": null,
   "id": "c4d82b60",
   "metadata": {},
   "outputs": [],
   "source": [
    "#第二步：激活s函数，得到隐藏层输出值\n",
    "\"\"\"导入scipy函数库，其中包含s函数-expit()\"\"\"\n",
    "import scipy.special as sps\n",
    "\n",
    "\"\"\"在神经网络对象初始化时，只需要定义一次s函数\"\"\"\n",
    "self.activation_function=lambda x:sps.expit(x)\n",
    "\"\"\"使用匿名函数，之后调用self.activation_function()即可\"\"\"\n",
    "\n",
    "\n",
    "\"\"\"得到隐藏层输出矩阵\"\"\"\n",
    "hidden_outputs=self.activation_function(hidden_inputs)"
   ]
  },
  {
   "cell_type": "code",
   "execution_count": null,
   "id": "1127382e",
   "metadata": {},
   "outputs": [],
   "source": [
    "#第三步：信号最终到达输出层，分别得到其输入与输出矩阵\n",
    "\"\"\"输出层的输入矩阵\"\"\"\n",
    "final_inputs=np.dot(self.who,hidden_outputs)\n",
    "\n",
    "\"\"\"输出层的输出矩阵\"\"\"\n",
    "final_outputs=self.activation_function(final_inputs)"
   ]
  }
 ],
 "metadata": {
  "kernelspec": {
   "display_name": "Python 3 (ipykernel)",
   "language": "python",
   "name": "python3"
  },
  "language_info": {
   "codemirror_mode": {
    "name": "ipython",
    "version": 3
   },
   "file_extension": ".py",
   "mimetype": "text/x-python",
   "name": "python",
   "nbconvert_exporter": "python",
   "pygments_lexer": "ipython3",
   "version": "3.11.5"
  }
 },
 "nbformat": 4,
 "nbformat_minor": 5
}
