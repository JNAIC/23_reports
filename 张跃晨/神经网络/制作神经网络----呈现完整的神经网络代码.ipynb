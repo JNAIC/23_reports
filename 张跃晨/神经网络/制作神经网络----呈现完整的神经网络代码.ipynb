{
 "cells": [
  {
   "cell_type": "code",
   "execution_count": 1,
   "id": "dce32777",
   "metadata": {},
   "outputs": [],
   "source": [
    "import numpy as np\n",
    "import scipy.special as sps"
   ]
  },
  {
   "cell_type": "code",
   "execution_count": 5,
   "id": "1a05607f",
   "metadata": {},
   "outputs": [],
   "source": [
    "#定义神经网络类\n",
    "class neuralNetwork():\n",
    "    def __init__(self,inputnodes,hiddennodes,outputnodes,learningrate):\n",
    "        self.inodes=inputnodes\n",
    "        self.hnodes=hiddennodes\n",
    "        self.onodes=outputnodes\n",
    "        self.lr=learningrate\n",
    "        #使用正态分布更新权重\n",
    "        self.wih=np.random.normal(0.0,pow(self.hnodes,-0.5),(self.hnodes,self.inodes))\n",
    "        self.who=np.random.normal(0.0,pow(self.onodes,-0.5),(self.onodes,self.hnodes))\n",
    "        \"\"\"其中pow 函数用于计算幂次方，其中 base 是底数，exponent 是指数。这将计算 base 的 exponent 次方的结果\n",
    "        在该代码中，pow 函数用于计算权重初始化时的标准差\"\"\"\n",
    "        \n",
    "        \"\"\"在神经网络对象初始化时，只需要定义一次s函数\"\"\"\n",
    "        self.activation_function=lambda x:sps.expit(x)\n",
    "        \"\"\"使用匿名函数，之后调用self.activation_function()即可\"\"\"\n",
    "        \n",
    "    def train(self,input_list,targets_list):\n",
    "        \"\"\"输入的转化为二维数组\"\"\"\n",
    "        inputs=np.array(inputs_list,ndmin=2).T\n",
    "        targets=np.array(targets_list,ndmin=2).T\n",
    "        \n",
    "        \"\"\"计算隐藏层的输入和输出\"\"\"\n",
    "        hidden_inputs=np.dot(self.wih,inputs)\n",
    "        hiddden_outputs=self.activation_function(hidden_inputs)\n",
    "        \n",
    "        \"\"\"计算输出层的输入和输出\"\"\"\n",
    "        final_inputs=np.dot(self.who,hidden_outputs)\n",
    "        final_outputs=self.activation_function(final_inputs)\n",
    "        \n",
    "        \"\"\"计算误差，即final_outputs与targets的差值\"\"\"\n",
    "        output_errors=targets-final_outputs\n",
    "    \n",
    "        \"\"\"计算隐藏层的误差\"\"\"\n",
    "        hidden_errors=np.dot(self.who.T,output_errors)\n",
    "    \n",
    "        \"\"\"计算更新节点与下一节点间的链接权重变化，同时加到原先的链接权重上实现更新\"\"\"\n",
    "        self.who+=self.lr*np.dot(output_errors*final_outputs*(1.0-final_outputs),np.transpose(hidden_outputs))\n",
    "        self.wih+=self.lr*np.dot(hidden_errors*hidden_outputs*(1.0-hidden_outputs),np.transpose(inputs))\n",
    "\n",
    "        \n",
    "    def query(self,inputs_list):\n",
    "        inputs=np.array(inputs_list,ndmin=2).T\n",
    "        \n",
    "        hidden_inputs=np.dot(self.wih,inputs)\n",
    "        hidden_outputs=self.activation_function(hidden_inputs)\n",
    "        \n",
    "        final_inputs=np.dot(self.who,hidden_outputs)\n",
    "        final_outputs=self.activation_function(final_inouts)\n",
    "        \n",
    "        return final_outputs\n",
    "    "
   ]
  }
 ],
 "metadata": {
  "kernelspec": {
   "display_name": "Python 3 (ipykernel)",
   "language": "python",
   "name": "python3"
  },
  "language_info": {
   "codemirror_mode": {
    "name": "ipython",
    "version": 3
   },
   "file_extension": ".py",
   "mimetype": "text/x-python",
   "name": "python",
   "nbconvert_exporter": "python",
   "pygments_lexer": "ipython3",
   "version": "3.11.5"
  }
 },
 "nbformat": 4,
 "nbformat_minor": 5
}
