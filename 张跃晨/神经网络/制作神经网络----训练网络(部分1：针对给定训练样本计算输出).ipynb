{
 "cells": [
  {
   "cell_type": "code",
   "execution_count": null,
   "id": "9716089a",
   "metadata": {},
   "outputs": [],
   "source": [
    "import numpy as np\n",
    "def train(self,input_list,targets_list):\n",
    "    inputs=np.array(inputs_list,ndmin=2).T\n",
    "    targets=np.array(targets_list,ndmin=2).T\n",
    "    \n",
    "    hidden_inputs=np.dot(self.wih,inputs)\n",
    "    hiddden_outputs=self.activation_function(hidden_inputs)\n",
    "    \n",
    "    final_inputs=np.dot(self.who,hidden_outputs)\n",
    "    final_outputs=self.activation_function(final_inputs)\n",
    "    "
   ]
  }
 ],
 "metadata": {
  "kernelspec": {
   "display_name": "Python 3 (ipykernel)",
   "language": "python",
   "name": "python3"
  },
  "language_info": {
   "codemirror_mode": {
    "name": "ipython",
    "version": 3
   },
   "file_extension": ".py",
   "mimetype": "text/x-python",
   "name": "python",
   "nbconvert_exporter": "python",
   "pygments_lexer": "ipython3",
   "version": "3.11.5"
  }
 },
 "nbformat": 4,
 "nbformat_minor": 5
}
