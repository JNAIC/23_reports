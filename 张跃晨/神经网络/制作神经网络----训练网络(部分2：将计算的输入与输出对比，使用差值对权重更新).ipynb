{
 "cells": [
  {
   "cell_type": "code",
   "execution_count": null,
   "id": "1403360d",
   "metadata": {},
   "outputs": [],
   "source": [
    "#由于需要使用期望值来训练网络，需要增加一个额外的参数\n",
    "import numpy as np\n",
    "def train(self,inputs_list,targets_list):\n",
    "    targets=np.array(targets_list,ndmin=2).T\n",
    "    \n",
    "    \n",
    "    \"\"\"计算误差，即final_outputs与targets的差值\"\"\"\n",
    "    output_errors=targets-final_outputs\n",
    "    \n",
    "    \"\"\"计算隐藏层的误差\"\"\"\n",
    "    hidden_errors=np.dot(self.who.T,output_errors)\n",
    "    \n",
    "    \"\"\"计算更新节点与下一节点间的链接权重变化，同时加到原先的链接权重上实现更新\"\"\"\n",
    "    self.who+=self.lr*np.dot(output_errors*final_outputs*(1.0-final_outputs),np.transpose(hidden_outputs))\n",
    "    self.wih+=self.lr*np.dot(hidden_errors*hidden_outputs*(1.0-hidden_outputs),np.transpose(inputs))"
   ]
  }
 ],
 "metadata": {
  "kernelspec": {
   "display_name": "Python 3 (ipykernel)",
   "language": "python",
   "name": "python3"
  },
  "language_info": {
   "codemirror_mode": {
    "name": "ipython",
    "version": 3
   },
   "file_extension": ".py",
   "mimetype": "text/x-python",
   "name": "python",
   "nbconvert_exporter": "python",
   "pygments_lexer": "ipython3",
   "version": "3.11.5"
  }
 },
 "nbformat": 4,
 "nbformat_minor": 5
}
