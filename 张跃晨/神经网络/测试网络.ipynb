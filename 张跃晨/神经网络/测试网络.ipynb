{
 "cells": [
  {
   "cell_type": "code",
   "execution_count": 1,
   "id": "16182d1f",
   "metadata": {},
   "outputs": [],
   "source": [
    "with open(\"D:/Neural_Network/data_mnist/mnist_test_10.csv\",\"r\") as test_data_file:\n",
    "    test_data_list=test_data_file.readlines()\n",
    "    test_data_file.close()"
   ]
  },
  {
   "cell_type": "code",
   "execution_count": 5,
   "id": "2c0fbe5c",
   "metadata": {},
   "outputs": [],
   "source": [
    "import numpy as np\n",
    "import matplotlib.pyplot as plt"
   ]
  },
  {
   "cell_type": "code",
   "execution_count": 4,
   "id": "35e4bbd0",
   "metadata": {},
   "outputs": [
    {
     "name": "stdout",
     "output_type": "stream",
     "text": [
      "7\n"
     ]
    }
   ],
   "source": [
    "all_values=test_data_list[0].split(\",\")\n",
    "print(all_values[0])"
   ]
  },
  {
   "cell_type": "code",
   "execution_count": 7,
   "id": "afc700d6",
   "metadata": {},
   "outputs": [
    {
     "ename": "SyntaxError",
     "evalue": "incomplete input (1028090688.py, line 2)",
     "output_type": "error",
     "traceback": [
      "\u001b[1;36m  Cell \u001b[1;32mIn[7], line 2\u001b[1;36m\u001b[0m\n\u001b[1;33m    plt.imshow(image_array,cmap=\"Greys\",interpolation=\"None\"\u001b[0m\n\u001b[1;37m                                                            ^\u001b[0m\n\u001b[1;31mSyntaxError\u001b[0m\u001b[1;31m:\u001b[0m incomplete input\n"
     ]
    }
   ],
   "source": [
    "image_array=np.asfarray(all_values[1:]).reshape((28,28))\n",
    "plt.imshow(image_array,cmap=\"Greys\",interpolation=\"None\")"
   ]
  },
  {
   "cell_type": "code",
   "execution_count": 8,
   "id": "f585c65a",
   "metadata": {},
   "outputs": [
    {
     "ename": "NameError",
     "evalue": "name 'n' is not defined",
     "output_type": "error",
     "traceback": [
      "\u001b[1;31m---------------------------------------------------------------------------\u001b[0m",
      "\u001b[1;31mNameError\u001b[0m                                 Traceback (most recent call last)",
      "Cell \u001b[1;32mIn[8], line 1\u001b[0m\n\u001b[1;32m----> 1\u001b[0m \u001b[43mn\u001b[49m\u001b[38;5;241m.\u001b[39mquery((np\u001b[38;5;241m.\u001b[39masfarray(all_values[\u001b[38;5;241m1\u001b[39m:])\u001b[38;5;241m/\u001b[39m\u001b[38;5;241m255.0\u001b[39m\u001b[38;5;241m*\u001b[39m\u001b[38;5;241m0.99\u001b[39m)\u001b[38;5;241m+\u001b[39m\u001b[38;5;241m0.01\u001b[39m)\n",
      "\u001b[1;31mNameError\u001b[0m: name 'n' is not defined"
     ]
    }
   ],
   "source": [
    "n.query((np.asfarray(all_values[1:])/255.0*0.99)+0.01)"
   ]
  }
 ],
 "metadata": {
  "kernelspec": {
   "display_name": "Python 3 (ipykernel)",
   "language": "python",
   "name": "python3"
  },
  "language_info": {
   "codemirror_mode": {
    "name": "ipython",
    "version": 3
   },
   "file_extension": ".py",
   "mimetype": "text/x-python",
   "name": "python",
   "nbconvert_exporter": "python",
   "pygments_lexer": "ipython3",
   "version": "3.11.5"
  }
 },
 "nbformat": 4,
 "nbformat_minor": 5
}
