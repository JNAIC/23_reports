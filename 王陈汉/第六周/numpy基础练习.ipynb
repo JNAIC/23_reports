{
 "cells": [
  {
   "cell_type": "code",
   "execution_count": 7,
   "id": "9320dbdf",
   "metadata": {},
   "outputs": [
    {
     "name": "stdout",
     "output_type": "stream",
     "text": [
      "[1.  2.  3.  4.5]\n",
      "[0 1 2 3 4 5 6 7 8 9]\n",
      "<class 'numpy.ndarray'>\n",
      "[0 1 2 3 4 5 6 7 8 9]\n",
      "int32\n"
     ]
    }
   ],
   "source": [
    "import numpy as np\n",
    "a=np.array([1,2,3,4.5])#传输列表\n",
    "print(a)\n",
    "b=np.array(range(10))#传入一个range\n",
    "print(b)\n",
    "print(type(b))\n",
    "#numpy中的数组类型：ndarray\n",
    "c=np.arange(10)\n",
    "print(c)\n",
    "#np特有办法\n",
    "print(c.dtype)"
   ]
  },
  {
   "cell_type": "code",
   "execution_count": 13,
   "id": "be5ae691",
   "metadata": {},
   "outputs": [
    {
     "name": "stdout",
     "output_type": "stream",
     "text": [
      "[1. 2. 3.]\n",
      "float64\n",
      "[ True  True False  True False False]\n",
      "bool\n",
      "[1 1 0 1 0 0]\n",
      "int8\n"
     ]
    }
   ],
   "source": [
    "t4=np.array(range(1,4),dtype=float)#指定数据类型\n",
    "print(t4)\n",
    "print(t4.dtype)\n",
    "t5=np.array([1,1,0,1,0,0],dtype=bool)\n",
    "print(t5)\n",
    "print(t5.dtype)\n",
    "#调整数据类型\n",
    "t6=t5.astype(\"int8\")\n",
    "print(t6)\n",
    "print(t6.dtype)"
   ]
  },
  {
   "cell_type": "code",
   "execution_count": 16,
   "id": "ece7762e",
   "metadata": {},
   "outputs": [
    {
     "name": "stdout",
     "output_type": "stream",
     "text": [
      "[0.54218293 0.00843489 0.82338704 0.6241483  0.2621995  0.71660949\n",
      " 0.40937027 0.55749012 0.35375011 0.44816153]\n",
      "float64\n",
      "[0.54 0.01 0.82 0.62 0.26 0.72 0.41 0.56 0.35 0.45]\n"
     ]
    }
   ],
   "source": [
    "#numpy中的小数\n",
    "import random\n",
    "t7=np.array([random.random() for i in range(10)])\n",
    "print(t7)\n",
    "print(t7.dtype)\n",
    "#取小数操作\n",
    "t8=np.round(t7,2)\n",
    "print(t8)"
   ]
  },
  {
   "cell_type": "code",
   "execution_count": 6,
   "id": "f58d74c3",
   "metadata": {},
   "outputs": [
    {
     "name": "stdout",
     "output_type": "stream",
     "text": [
      "[ 0  1  2  3  4  5  6  7  8  9 10 11]\n",
      "[[1 2 3]\n",
      " [4 5 6]]\n"
     ]
    },
    {
     "data": {
      "text/plain": [
       "(2, 3)"
      ]
     },
     "execution_count": 6,
     "metadata": {},
     "output_type": "execute_result"
    }
   ],
   "source": [
    "#形状\n",
    "import numpy as np\n",
    "t1=np.arange(12)\n",
    "print(t1)\n",
    "t1.shape\n",
    "t2=np.array([[1,2,3],[4,5,6]])\n",
    "print(t2)\n",
    "t2.shape\n",
    "#输出分别是行数和列数"
   ]
  },
  {
   "cell_type": "code",
   "execution_count": 12,
   "id": "416ae88e",
   "metadata": {
    "scrolled": true
   },
   "outputs": [
    {
     "name": "stdout",
     "output_type": "stream",
     "text": [
      "[[[ 1  2  3]\n",
      "  [ 4  5  6]]\n",
      "\n",
      " [[ 7  8  9]\n",
      "  [10 11 12]]]\n"
     ]
    },
    {
     "data": {
      "text/plain": [
       "(2, 2, 3)"
      ]
     },
     "execution_count": 12,
     "metadata": {},
     "output_type": "execute_result"
    }
   ],
   "source": [
    "t3=np.array([[[1,2,3],[4,5,6]],[[7,8,9],[10,11,12]]])\n",
    "print(t3)\n",
    "t3.shape\n",
    "#一个三维数组"
   ]
  },
  {
   "cell_type": "code",
   "execution_count": 10,
   "id": "6373f9e4",
   "metadata": {},
   "outputs": [
    {
     "name": "stdout",
     "output_type": "stream",
     "text": [
      "[ 0  1  2  3  4  5  6  7  8  9 10 11]\n"
     ]
    },
    {
     "data": {
      "text/plain": [
       "array([[ 0,  1,  2,  3],\n",
       "       [ 4,  5,  6,  7],\n",
       "       [ 8,  9, 10, 11]])"
      ]
     },
     "execution_count": 10,
     "metadata": {},
     "output_type": "execute_result"
    }
   ],
   "source": [
    "t4=np.arange(12)\n",
    "print(t4)\n",
    "t4.reshape(3,4)\n",
    "#变为三行四列的数组"
   ]
  },
  {
   "cell_type": "code",
   "execution_count": 21,
   "id": "a9123719",
   "metadata": {},
   "outputs": [
    {
     "name": "stdout",
     "output_type": "stream",
     "text": [
      "[[[ 0  1  2  3]\n",
      "  [ 4  5  6  7]\n",
      "  [ 8  9 10 11]]\n",
      "\n",
      " [[12 13 14 15]\n",
      "  [16 17 18 19]\n",
      "  [20 21 22 23]]]\n",
      "[[[ 0  1  2  3]\n",
      "  [ 4  5  6  7]\n",
      "  [ 8  9 10 11]]\n",
      "\n",
      " [[12 13 14 15]\n",
      "  [16 17 18 19]\n",
      "  [20 21 22 23]]]\n"
     ]
    }
   ],
   "source": [
    "t5=np.arange(24).reshape(2,3,4)\n",
    "print(t5)\n",
    "t5.reshape((4,6))\n",
    "t5.reshape((1,24))\n",
    "#嵌套括号，二维数组\n",
    "t5.flatten()\n",
    "#按行展开,reshape不改变数据本身\n",
    "print(t5)"
   ]
  },
  {
   "cell_type": "code",
   "execution_count": 33,
   "id": "3fa7dc60",
   "metadata": {},
   "outputs": [
    {
     "name": "stdout",
     "output_type": "stream",
     "text": [
      "[[[ 2  3  4  5]\n",
      "  [ 6  7  8  9]\n",
      "  [10 11 12 13]]\n",
      "\n",
      " [[14 15 16 17]\n",
      "  [18 19 20 21]\n",
      "  [22 23 24 25]]]\n",
      "[[[nan inf inf inf]\n",
      "  [inf inf inf inf]\n",
      "  [inf inf inf inf]]\n",
      "\n",
      " [[inf inf inf inf]\n",
      "  [inf inf inf inf]\n",
      "  [inf inf inf inf]]]\n"
     ]
    },
    {
     "name": "stderr",
     "output_type": "stream",
     "text": [
      "C:\\Users\\29988\\AppData\\Local\\Temp\\ipykernel_19680\\371017124.py:4: RuntimeWarning: divide by zero encountered in true_divide\n",
      "  print(t5/0)\n",
      "C:\\Users\\29988\\AppData\\Local\\Temp\\ipykernel_19680\\371017124.py:4: RuntimeWarning: invalid value encountered in true_divide\n",
      "  print(t5/0)\n"
     ]
    }
   ],
   "source": [
    "#数组计算\n",
    "print(t5+2)\n",
    "#广播机制，运算应用到每一个数字\n",
    "print(t5/0)\n",
    "#nan:not a number,inf:无限"
   ]
  },
  {
   "cell_type": "code",
   "execution_count": 37,
   "id": "2993d293",
   "metadata": {},
   "outputs": [
    {
     "name": "stdout",
     "output_type": "stream",
     "text": [
      "[[100 101 102 103 104 105]\n",
      " [106 107 108 109 110 111]\n",
      " [112 113 114 115 116 117]\n",
      " [118 119 120 121 122 123]]\n",
      "[[ 0  1  2  3  4  5]\n",
      " [ 6  7  8  9 10 11]\n",
      " [12 13 14 15 16 17]\n",
      " [18 19 20 21 22 23]]\n",
      "[[100 102 104 106 108 110]\n",
      " [112 114 116 118 120 122]\n",
      " [124 126 128 130 132 134]\n",
      " [136 138 140 142 144 146]]\n",
      "[[   0  101  204  309  416  525]\n",
      " [ 636  749  864  981 1100 1221]\n",
      " [1344 1469 1596 1725 1856 1989]\n",
      " [2124 2261 2400 2541 2684 2829]]\n"
     ]
    }
   ],
   "source": [
    "t6=np.arange(100,124).reshape((4,6))\n",
    "print(t6)\n",
    "t5=np.arange(0,24).reshape((4,6))\n",
    "print(t5)\n",
    "print(t5+t6)\n",
    "#对应位置计算\n",
    "print(t5*t6)"
   ]
  },
  {
   "cell_type": "code",
   "execution_count": 41,
   "id": "5bf56328",
   "metadata": {},
   "outputs": [
    {
     "name": "stdout",
     "output_type": "stream",
     "text": [
      "[0 1 2 3 4 5]\n",
      "[[ 0  1  2  3  4  5]\n",
      " [ 6  7  8  9 10 11]\n",
      " [12 13 14 15 16 17]\n",
      " [18 19 20 21 22 23]]\n",
      "[[ 0  0  0  0  0  0]\n",
      " [ 6  6  6  6  6  6]\n",
      " [12 12 12 12 12 12]\n",
      " [18 18 18 18 18 18]]\n",
      "[[0]\n",
      " [1]\n",
      " [2]\n",
      " [3]]\n",
      "[[ 0  1  2  3  4  5]\n",
      " [ 5  6  7  8  9 10]\n",
      " [10 11 12 13 14 15]\n",
      " [15 16 17 18 19 20]]\n"
     ]
    }
   ],
   "source": [
    "t7=np.arange(0,6)\n",
    "print(t7)\n",
    "print(t5)\n",
    "print(t5-t7)\n",
    "#t5的每一行对t7的一行进行计算\n",
    "t8=np.arange(4).reshape((4,1))\n",
    "print(t8)\n",
    "print(t5-t8)\n",
    "#列上进行运算（两者相同）\n",
    "#要有相同的地方才可以计算，也就是某一维度上是相同的"
   ]
  },
  {
   "cell_type": "code",
   "execution_count": null,
   "id": "654cdcfe",
   "metadata": {},
   "outputs": [],
   "source": []
  }
 ],
 "metadata": {
  "kernelspec": {
   "display_name": "Python 3 (ipykernel)",
   "language": "python",
   "name": "python3"
  },
  "language_info": {
   "codemirror_mode": {
    "name": "ipython",
    "version": 3
   },
   "file_extension": ".py",
   "mimetype": "text/x-python",
   "name": "python",
   "nbconvert_exporter": "python",
   "pygments_lexer": "ipython3",
   "version": "3.9.13"
  }
 },
 "nbformat": 4,
 "nbformat_minor": 5
}
