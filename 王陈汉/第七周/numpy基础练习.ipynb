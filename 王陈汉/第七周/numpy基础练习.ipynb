{
 "cells": [
  {
   "cell_type": "code",
   "execution_count": 1,
   "id": "9320dbdf",
   "metadata": {},
   "outputs": [
    {
     "name": "stdout",
     "output_type": "stream",
     "text": [
      "[1.  2.  3.  4.5]\n",
      "[0 1 2 3 4 5 6 7 8 9]\n",
      "<class 'numpy.ndarray'>\n",
      "[0 1 2 3 4 5 6 7 8 9]\n",
      "int32\n"
     ]
    }
   ],
   "source": [
    "import numpy as np\n",
    "a=np.array([1,2,3,4.5])#传输列表\n",
    "print(a)\n",
    "b=np.array(range(10))#传入一个range\n",
    "print(b)\n",
    "print(type(b))\n",
    "#numpy中的数组类型：ndarray\n",
    "c=np.arange(10)\n",
    "print(c)\n",
    "#np特有办法\n",
    "print(c.dtype)"
   ]
  },
  {
   "cell_type": "code",
   "execution_count": 2,
   "id": "be5ae691",
   "metadata": {},
   "outputs": [
    {
     "name": "stdout",
     "output_type": "stream",
     "text": [
      "[1. 2. 3.]\n",
      "float64\n",
      "[ True  True False  True False False]\n",
      "bool\n",
      "[1 1 0 1 0 0]\n",
      "int8\n"
     ]
    }
   ],
   "source": [
    "t4=np.array(range(1,4),dtype=float)#指定数据类型\n",
    "print(t4)\n",
    "print(t4.dtype)\n",
    "t5=np.array([1,1,0,1,0,0],dtype=bool)\n",
    "print(t5)\n",
    "print(t5.dtype)\n",
    "#调整数据类型\n",
    "t6=t5.astype(\"int8\")\n",
    "print(t6)\n",
    "print(t6.dtype)"
   ]
  },
  {
   "cell_type": "code",
   "execution_count": 3,
   "id": "ece7762e",
   "metadata": {},
   "outputs": [
    {
     "name": "stdout",
     "output_type": "stream",
     "text": [
      "[0.86636237 0.53831725 0.85878842 0.3551559  0.77089052 0.10314143\n",
      " 0.96189131 0.33217818 0.77006695 0.59132524]\n",
      "float64\n",
      "[0.87 0.54 0.86 0.36 0.77 0.1  0.96 0.33 0.77 0.59]\n"
     ]
    }
   ],
   "source": [
    "#numpy中的小数\n",
    "import random\n",
    "t7=np.array([random.random() for i in range(10)])\n",
    "print(t7)\n",
    "print(t7.dtype)\n",
    "#取小数操作\n",
    "t8=np.round(t7,2)\n",
    "print(t8)"
   ]
  },
  {
   "cell_type": "code",
   "execution_count": 4,
   "id": "f58d74c3",
   "metadata": {},
   "outputs": [
    {
     "name": "stdout",
     "output_type": "stream",
     "text": [
      "[ 0  1  2  3  4  5  6  7  8  9 10 11]\n",
      "[[1 2 3]\n",
      " [4 5 6]]\n"
     ]
    },
    {
     "data": {
      "text/plain": [
       "(2, 3)"
      ]
     },
     "execution_count": 4,
     "metadata": {},
     "output_type": "execute_result"
    }
   ],
   "source": [
    "#形状\n",
    "import numpy as np\n",
    "t1=np.arange(12)\n",
    "print(t1)\n",
    "t1.shape\n",
    "t2=np.array([[1,2,3],[4,5,6]])\n",
    "print(t2)\n",
    "t2.shape\n",
    "#输出分别是行数和列数"
   ]
  },
  {
   "cell_type": "code",
   "execution_count": 5,
   "id": "416ae88e",
   "metadata": {
    "scrolled": true
   },
   "outputs": [
    {
     "name": "stdout",
     "output_type": "stream",
     "text": [
      "[[[ 1  2  3]\n",
      "  [ 4  5  6]]\n",
      "\n",
      " [[ 7  8  9]\n",
      "  [10 11 12]]]\n"
     ]
    },
    {
     "data": {
      "text/plain": [
       "(2, 2, 3)"
      ]
     },
     "execution_count": 5,
     "metadata": {},
     "output_type": "execute_result"
    }
   ],
   "source": [
    "t3=np.array([[[1,2,3],[4,5,6]],[[7,8,9],[10,11,12]]])\n",
    "print(t3)\n",
    "t3.shape\n",
    "#一个三维数组"
   ]
  },
  {
   "cell_type": "code",
   "execution_count": 6,
   "id": "6373f9e4",
   "metadata": {},
   "outputs": [
    {
     "name": "stdout",
     "output_type": "stream",
     "text": [
      "[ 0  1  2  3  4  5  6  7  8  9 10 11]\n"
     ]
    },
    {
     "data": {
      "text/plain": [
       "array([[ 0,  1,  2,  3],\n",
       "       [ 4,  5,  6,  7],\n",
       "       [ 8,  9, 10, 11]])"
      ]
     },
     "execution_count": 6,
     "metadata": {},
     "output_type": "execute_result"
    }
   ],
   "source": [
    "t4=np.arange(12)\n",
    "print(t4)\n",
    "t4.reshape(3,4)\n",
    "#变为三行四列的数组"
   ]
  },
  {
   "cell_type": "code",
   "execution_count": 7,
   "id": "a9123719",
   "metadata": {},
   "outputs": [
    {
     "name": "stdout",
     "output_type": "stream",
     "text": [
      "[[[ 0  1  2  3]\n",
      "  [ 4  5  6  7]\n",
      "  [ 8  9 10 11]]\n",
      "\n",
      " [[12 13 14 15]\n",
      "  [16 17 18 19]\n",
      "  [20 21 22 23]]]\n",
      "[[[ 0  1  2  3]\n",
      "  [ 4  5  6  7]\n",
      "  [ 8  9 10 11]]\n",
      "\n",
      " [[12 13 14 15]\n",
      "  [16 17 18 19]\n",
      "  [20 21 22 23]]]\n"
     ]
    }
   ],
   "source": [
    "t5=np.arange(24).reshape(2,3,4)\n",
    "print(t5)\n",
    "t5.reshape((4,6))\n",
    "t5.reshape((1,24))\n",
    "#嵌套括号，二维数组\n",
    "t5.flatten()\n",
    "#按行展开,reshape不改变数据本身\n",
    "print(t5)"
   ]
  },
  {
   "cell_type": "code",
   "execution_count": 8,
   "id": "3fa7dc60",
   "metadata": {},
   "outputs": [
    {
     "name": "stdout",
     "output_type": "stream",
     "text": [
      "[[[ 2  3  4  5]\n",
      "  [ 6  7  8  9]\n",
      "  [10 11 12 13]]\n",
      "\n",
      " [[14 15 16 17]\n",
      "  [18 19 20 21]\n",
      "  [22 23 24 25]]]\n",
      "[[[nan inf inf inf]\n",
      "  [inf inf inf inf]\n",
      "  [inf inf inf inf]]\n",
      "\n",
      " [[inf inf inf inf]\n",
      "  [inf inf inf inf]\n",
      "  [inf inf inf inf]]]\n"
     ]
    },
    {
     "name": "stderr",
     "output_type": "stream",
     "text": [
      "C:\\Users\\29988\\AppData\\Local\\Temp\\ipykernel_12152\\371017124.py:4: RuntimeWarning: divide by zero encountered in true_divide\n",
      "  print(t5/0)\n",
      "C:\\Users\\29988\\AppData\\Local\\Temp\\ipykernel_12152\\371017124.py:4: RuntimeWarning: invalid value encountered in true_divide\n",
      "  print(t5/0)\n"
     ]
    }
   ],
   "source": [
    "#数组计算\n",
    "print(t5+2)\n",
    "#广播机制，运算应用到每一个数字\n",
    "print(t5/0)\n",
    "#nan:not a number,inf:无限"
   ]
  },
  {
   "cell_type": "code",
   "execution_count": 9,
   "id": "2993d293",
   "metadata": {},
   "outputs": [
    {
     "name": "stdout",
     "output_type": "stream",
     "text": [
      "[[100 101 102 103 104 105]\n",
      " [106 107 108 109 110 111]\n",
      " [112 113 114 115 116 117]\n",
      " [118 119 120 121 122 123]]\n",
      "[[ 0  1  2  3  4  5]\n",
      " [ 6  7  8  9 10 11]\n",
      " [12 13 14 15 16 17]\n",
      " [18 19 20 21 22 23]]\n",
      "[[100 102 104 106 108 110]\n",
      " [112 114 116 118 120 122]\n",
      " [124 126 128 130 132 134]\n",
      " [136 138 140 142 144 146]]\n",
      "[[   0  101  204  309  416  525]\n",
      " [ 636  749  864  981 1100 1221]\n",
      " [1344 1469 1596 1725 1856 1989]\n",
      " [2124 2261 2400 2541 2684 2829]]\n"
     ]
    }
   ],
   "source": [
    "t6=np.arange(100,124).reshape((4,6))\n",
    "print(t6)\n",
    "t5=np.arange(0,24).reshape((4,6))\n",
    "print(t5)\n",
    "print(t5+t6)\n",
    "#对应位置计算\n",
    "print(t5*t6)"
   ]
  },
  {
   "cell_type": "code",
   "execution_count": 10,
   "id": "5bf56328",
   "metadata": {},
   "outputs": [
    {
     "name": "stdout",
     "output_type": "stream",
     "text": [
      "[0 1 2 3 4 5]\n",
      "[[ 0  1  2  3  4  5]\n",
      " [ 6  7  8  9 10 11]\n",
      " [12 13 14 15 16 17]\n",
      " [18 19 20 21 22 23]]\n",
      "[[ 0  0  0  0  0  0]\n",
      " [ 6  6  6  6  6  6]\n",
      " [12 12 12 12 12 12]\n",
      " [18 18 18 18 18 18]]\n",
      "[[0]\n",
      " [1]\n",
      " [2]\n",
      " [3]]\n",
      "[[ 0  1  2  3  4  5]\n",
      " [ 5  6  7  8  9 10]\n",
      " [10 11 12 13 14 15]\n",
      " [15 16 17 18 19 20]]\n"
     ]
    }
   ],
   "source": [
    "t7=np.arange(0,6)\n",
    "print(t7)\n",
    "print(t5)\n",
    "print(t5-t7)\n",
    "#t5的每一行对t7的一行进行计算\n",
    "t8=np.arange(4).reshape((4,1))\n",
    "print(t8)\n",
    "print(t5-t8)\n",
    "#列上进行运算（两者相同）\n",
    "#要有相同的地方才可以计算，也就是某一维度上是相同的"
   ]
  },
  {
   "cell_type": "code",
   "execution_count": 11,
   "id": "654cdcfe",
   "metadata": {},
   "outputs": [
    {
     "name": "stdout",
     "output_type": "stream",
     "text": [
      "[[ 0  1  2  3  4  5]\n",
      " [ 6  7  8  9 10 11]\n",
      " [12 13 14 15 16 17]\n",
      " [18 19 20 21 22 23]]\n"
     ]
    }
   ],
   "source": [
    "#轴，方向，比如一维数组只有零轴\n",
    "#0轴，1轴，2轴\n",
    "#块，行，列\n",
    "#np读取数据：\n",
    "#np.loadtxt(frame.dtype=np.float,delimiter=None,skiprows=0,usecols=None,unpack=False)\n",
    "t2=np.arange(24).reshape((4,6))\n",
    "print(t2)"
   ]
  },
  {
   "cell_type": "code",
   "execution_count": 12,
   "id": "aeb81902",
   "metadata": {},
   "outputs": [
    {
     "data": {
      "text/plain": [
       "array([[ 0,  6, 12, 18],\n",
       "       [ 1,  7, 13, 19],\n",
       "       [ 2,  8, 14, 20],\n",
       "       [ 3,  9, 15, 21],\n",
       "       [ 4, 10, 16, 22],\n",
       "       [ 5, 11, 17, 23]])"
      ]
     },
     "execution_count": 12,
     "metadata": {},
     "output_type": "execute_result"
    }
   ],
   "source": [
    "t2.transpose()\n",
    "#转置"
   ]
  },
  {
   "cell_type": "code",
   "execution_count": 13,
   "id": "6cf967f5",
   "metadata": {},
   "outputs": [
    {
     "data": {
      "text/plain": [
       "array([[ 0,  6, 12, 18],\n",
       "       [ 1,  7, 13, 19],\n",
       "       [ 2,  8, 14, 20],\n",
       "       [ 3,  9, 15, 21],\n",
       "       [ 4, 10, 16, 22],\n",
       "       [ 5, 11, 17, 23]])"
      ]
     },
     "execution_count": 13,
     "metadata": {},
     "output_type": "execute_result"
    }
   ],
   "source": [
    "t2.T\n",
    "t2.swapaxes(1,0)\n",
    "#都是转置 "
   ]
  },
  {
   "cell_type": "code",
   "execution_count": 14,
   "id": "0bc93ca5",
   "metadata": {},
   "outputs": [
    {
     "name": "stdout",
     "output_type": "stream",
     "text": [
      "[12 13 14 15 16 17]\n"
     ]
    }
   ],
   "source": [
    "#numpy的索引和切片\n",
    "print(t2[2])#取第三行"
   ]
  },
  {
   "cell_type": "code",
   "execution_count": 15,
   "id": "fca24916",
   "metadata": {},
   "outputs": [
    {
     "name": "stdout",
     "output_type": "stream",
     "text": [
      "[[12 13 14 15 16 17]\n",
      " [18 19 20 21 22 23]]\n",
      "[[ 6  7  8  9 10 11]\n",
      " [18 19 20 21 22 23]]\n",
      "[ 0  6 12 18]\n",
      "[[ 0  1  2  3  4  5]\n",
      " [ 6  7  8  9 10 11]]\n",
      "[[ 0  2]\n",
      " [ 6  8]\n",
      " [12 14]\n",
      " [18 20]]\n",
      "15\n",
      "<class 'numpy.int32'>\n",
      "[[13 14 15]\n",
      " [19 20 21]]\n",
      "[ 0 13]\n"
     ]
    }
   ],
   "source": [
    "#取多行\n",
    "print(t2[2:])\n",
    "#取不连续的多行\n",
    "print(t2[[1,3]])\n",
    "#取列\n",
    "print(t2[:,0])\n",
    "#取连续的多列\n",
    "print(t2[:2:])\n",
    "#取不连续的多列\n",
    "print(t2[:,[0,2]])\n",
    "#取多行多列，第三行第四列\n",
    "a=t2[2,3]\n",
    "print(a)\n",
    "print(type(a))\n",
    "#取第三行到第五行，第二列到第三列\n",
    "b=t2[2:5,1:4]\n",
    "print(b)\n",
    "#取的是行和列交叉点的值\n",
    "c=t2[[0,2],[0,1]]\n",
    "print(c)"
   ]
  },
  {
   "cell_type": "code",
   "execution_count": 16,
   "id": "1927ee58",
   "metadata": {},
   "outputs": [
    {
     "name": "stdout",
     "output_type": "stream",
     "text": [
      "[[ 0  1  2  3  4  5]\n",
      " [ 6  7  8  9 10 11]\n",
      " [12 13 14 15 16 17]\n",
      " [18 19 20 21 22 23]]\n"
     ]
    }
   ],
   "source": [
    "#数值的修改\n",
    "#t[:,2:4]=0,类似赋值\n",
    "print(t2)"
   ]
  },
  {
   "cell_type": "code",
   "execution_count": 17,
   "id": "be1c2ac5",
   "metadata": {},
   "outputs": [
    {
     "name": "stdout",
     "output_type": "stream",
     "text": [
      "[[ True  True  True  True  True  True]\n",
      " [ True  True  True  True False False]\n",
      " [False False False False False False]\n",
      " [False False False False False False]]\n",
      "[[ 3  3  3  3  3  3]\n",
      " [ 3  3  3  3 10 11]\n",
      " [12 13 14 15 16 17]\n",
      " [18 19 20 21 22 23]]\n"
     ]
    }
   ],
   "source": [
    "print(t2<10)\n",
    "t2[t2<10]=3\n",
    "print(t2)"
   ]
  },
  {
   "cell_type": "code",
   "execution_count": 18,
   "id": "904a80f5",
   "metadata": {},
   "outputs": [
    {
     "data": {
      "text/plain": [
       "array([[10, 10, 10, 10, 10, 10],\n",
       "       [10, 10, 10, 10, 10, 11],\n",
       "       [12, 13, 14, 15, 16, 17],\n",
       "       [18, 18, 18, 18, 18, 18]])"
      ]
     },
     "execution_count": 18,
     "metadata": {},
     "output_type": "execute_result"
    }
   ],
   "source": [
    "#where运算符,bool索引操作\n",
    "np.where(t2<10,0,10)\n",
    "#clip裁剪\n",
    "t2.clip(10,18)#小于10的替换成10，大于10的替换成18"
   ]
  },
  {
   "cell_type": "code",
   "execution_count": 19,
   "id": "a10e1fdd",
   "metadata": {},
   "outputs": [
    {
     "name": "stdout",
     "output_type": "stream",
     "text": [
      "[[ 3  3  3  3  3  3]\n",
      " [12 13 14 15 16 17]\n",
      " [ 3  3  3  3 10 11]\n",
      " [18 19 20 21 22 23]]\n"
     ]
    }
   ],
   "source": [
    "#数组的拼接，两组数据变成一组\n",
    "#从上往下，或者从左往右\n",
    "#np.vstack((t1,t2)),竖直拼接\n",
    "#np.hstack((t1,t2)),水平拼接\n",
    "#拼接和分割基本相同\n",
    "#交换\n",
    "t2[[1,2],:]=t2[[2,1],:]\n",
    "print(t2)"
   ]
  },
  {
   "cell_type": "code",
   "execution_count": 20,
   "id": "f4c857bb",
   "metadata": {},
   "outputs": [],
   "source": [
    "#numpy的一些其他用法\n",
    "#获取最大最小值的位置\n",
    "#获取一个全零数组\n",
    "np.zeros((3,4))\n",
    "#创建一个全一数组\n",
    "np.ones((3,4))\n",
    "#创建一个对角线为1的正方形数组（方阵）：\n",
    "t=np.eye(3)\n",
    "#np.argmax(t,aixs=0)\n",
    "#np.argmin(t,axis=1)"
   ]
  },
  {
   "cell_type": "code",
   "execution_count": 22,
   "id": "08bf52d2",
   "metadata": {},
   "outputs": [
    {
     "name": "stdout",
     "output_type": "stream",
     "text": [
      "[[ 9  4 15  0]\n",
      " [17 16 17  8]\n",
      " [ 9  0 10  8]]\n"
     ]
    }
   ],
   "source": [
    "#生成随机数\n",
    "np.random.randint(10,20,(4,5))#四行五列，十到二十的随机数\n",
    "#np.random.uniform 小数\n",
    "#种子,生成和上次一样的随机数\n",
    "np.random.seed(10)\n",
    "t=np.random.randint(0,20,(3,4))\n",
    "print(t)\n",
    "#视图 复制\n",
    "a=b[:]\n",
    "a=b.copy#ab不会相互影响"
   ]
  },
  {
   "cell_type": "code",
   "execution_count": 23,
   "id": "0fb5b163",
   "metadata": {},
   "outputs": [
    {
     "data": {
      "text/plain": [
       "False"
      ]
     },
     "execution_count": 23,
     "metadata": {},
     "output_type": "execute_result"
    }
   ],
   "source": [
    "#nan和inf\n",
    "np.nan==np.nan"
   ]
  },
  {
   "cell_type": "code",
   "execution_count": 24,
   "id": "b7815f2e",
   "metadata": {},
   "outputs": [
    {
     "data": {
      "text/plain": [
       "True"
      ]
     },
     "execution_count": 24,
     "metadata": {},
     "output_type": "execute_result"
    }
   ],
   "source": [
    "np.nan!=np.nan"
   ]
  },
  {
   "cell_type": "code",
   "execution_count": 26,
   "id": "fb65fed2",
   "metadata": {},
   "outputs": [
    {
     "data": {
      "text/plain": [
       "array([[False, False, False, False],\n",
       "       [False, False, False, False],\n",
       "       [False, False, False, False]])"
      ]
     },
     "execution_count": 26,
     "metadata": {},
     "output_type": "execute_result"
    }
   ],
   "source": [
    "np.count_nonzero(t)#不为0\n",
    "np.isnan(t)#统计nan的个数"
   ]
  },
  {
   "cell_type": "code",
   "execution_count": 28,
   "id": "a6a40946",
   "metadata": {},
   "outputs": [
    {
     "data": {
      "text/plain": [
       "array([36, 38, 40, 42, 51, 54])"
      ]
     },
     "execution_count": 28,
     "metadata": {},
     "output_type": "execute_result"
    }
   ],
   "source": [
    "np.sum(t2)#求和\n",
    "np.sum(t2,axis=0 )#指定一个轴"
   ]
  },
  {
   "cell_type": "code",
   "execution_count": 29,
   "id": "fd51883a",
   "metadata": {},
   "outputs": [
    {
     "ename": "AttributeError",
     "evalue": "module 'numpy' has no attribute 'pyp'",
     "output_type": "error",
     "traceback": [
      "\u001b[1;31m---------------------------------------------------------------------------\u001b[0m",
      "\u001b[1;31mAttributeError\u001b[0m                            Traceback (most recent call last)",
      "\u001b[1;32m~\\AppData\\Local\\Temp\\ipykernel_12152\\395503573.py\u001b[0m in \u001b[0;36m<module>\u001b[1;34m\u001b[0m\n\u001b[0;32m      6\u001b[0m \u001b[0mt2\u001b[0m\u001b[1;33m.\u001b[0m\u001b[0mmin\u001b[0m\u001b[1;33m(\u001b[0m\u001b[0maxis\u001b[0m\u001b[1;33m=\u001b[0m\u001b[1;36m0\u001b[0m\u001b[1;33m)\u001b[0m\u001b[1;33m\u001b[0m\u001b[1;33m\u001b[0m\u001b[0m\n\u001b[0;32m      7\u001b[0m \u001b[1;31m#极值，标准差\u001b[0m\u001b[1;33m\u001b[0m\u001b[1;33m\u001b[0m\u001b[0m\n\u001b[1;32m----> 8\u001b[1;33m \u001b[0mnp\u001b[0m\u001b[1;33m.\u001b[0m\u001b[0mpyp\u001b[0m\u001b[1;33m(\u001b[0m\u001b[0mt\u001b[0m\u001b[1;33m,\u001b[0m\u001b[0maxis\u001b[0m\u001b[1;33m=\u001b[0m\u001b[1;32mNone\u001b[0m\u001b[1;33m)\u001b[0m\u001b[1;33m\u001b[0m\u001b[1;33m\u001b[0m\u001b[0m\n\u001b[0m\u001b[0;32m      9\u001b[0m \u001b[0mt\u001b[0m\u001b[1;33m.\u001b[0m\u001b[0mstd\u001b[0m\u001b[1;33m(\u001b[0m\u001b[0maxis\u001b[0m\u001b[1;33m=\u001b[0m\u001b[1;32mNone\u001b[0m\u001b[1;33m)\u001b[0m\u001b[1;31m#数据的稳定情况\u001b[0m\u001b[1;33m\u001b[0m\u001b[1;33m\u001b[0m\u001b[0m\n",
      "\u001b[1;32mD:\\anaconda\\demo\\lib\\site-packages\\numpy\\__init__.py\u001b[0m in \u001b[0;36m__getattr__\u001b[1;34m(attr)\u001b[0m\n\u001b[0;32m    311\u001b[0m                 \u001b[1;32mreturn\u001b[0m \u001b[0mTester\u001b[0m\u001b[1;33m\u001b[0m\u001b[1;33m\u001b[0m\u001b[0m\n\u001b[0;32m    312\u001b[0m \u001b[1;33m\u001b[0m\u001b[0m\n\u001b[1;32m--> 313\u001b[1;33m             raise AttributeError(\"module {!r} has no attribute \"\n\u001b[0m\u001b[0;32m    314\u001b[0m                                  \"{!r}\".format(__name__, attr))\n\u001b[0;32m    315\u001b[0m \u001b[1;33m\u001b[0m\u001b[0m\n",
      "\u001b[1;31mAttributeError\u001b[0m: module 'numpy' has no attribute 'pyp'"
     ]
    }
   ],
   "source": [
    "#常用统计函数\n",
    "t.sum(axis=None)\n",
    "t.mean(axis=0)\n",
    "np.median(t2,axis=0)\n",
    "t2.max(axis=0)\n",
    "t2.min(axis=0)\n",
    "#极值，标准差\n",
    "np.pyp(t,axis=None)\n",
    "t.std(axis=None)#数据的稳定情况"
   ]
  },
  {
   "cell_type": "code",
   "execution_count": 31,
   "id": "6ec0ab83",
   "metadata": {},
   "outputs": [
    {
     "name": "stdout",
     "output_type": "stream",
     "text": [
      "[[ 0.  1.  2.  3.]\n",
      " [ 4.  5. nan nan]\n",
      " [ 8.  9. 10. 11.]]\n"
     ]
    }
   ],
   "source": [
    "t1=np.arange(12).reshape((3,4)).astype(\"float\")\n",
    "t1[1,2:]=np.nan\n",
    "\n",
    "print(t1)"
   ]
  },
  {
   "cell_type": "code",
   "execution_count": 35,
   "id": "de6e2b69",
   "metadata": {},
   "outputs": [],
   "source": [
    "def fill_ndarray(t1):\n",
    "    for i in range(t1.shape[1]):\n",
    "        temp_col=t1[:,i]#当前的一列\n",
    "        nan_num=np.count_nonzero(temp_col!=temp_col)\n",
    "        if nan_num!=0:#不为0，说明当前一列有nan\n",
    "            temp_not_nan_col=temp_col[temp_col==temp_col]#当前一列不为nan的array\n",
    "        \n",
    "            temp_col[np.isnan(temp_col)]=temp_not_nan_col.mean()#选中nan的位置，把值赋值为均值\n",
    "        \n",
    "    return t1  "
   ]
  },
  {
   "cell_type": "code",
   "execution_count": 36,
   "id": "d3121977",
   "metadata": {},
   "outputs": [
    {
     "name": "stdout",
     "output_type": "stream",
     "text": [
      "[[ 0.  1.  2.  3.]\n",
      " [ 4.  5.  6.  7.]\n",
      " [ 8.  9. 10. 11.]]\n"
     ]
    }
   ],
   "source": [
    "t1=fill_ndarray(t1)\n",
    "print(t1)"
   ]
  },
  {
   "cell_type": "code",
   "execution_count": null,
   "id": "daf6cf14",
   "metadata": {},
   "outputs": [],
   "source": []
  }
 ],
 "metadata": {
  "kernelspec": {
   "display_name": "Python 3 (ipykernel)",
   "language": "python",
   "name": "python3"
  },
  "language_info": {
   "codemirror_mode": {
    "name": "ipython",
    "version": 3
   },
   "file_extension": ".py",
   "mimetype": "text/x-python",
   "name": "python",
   "nbconvert_exporter": "python",
   "pygments_lexer": "ipython3",
   "version": "3.9.13"
  }
 },
 "nbformat": 4,
 "nbformat_minor": 5
}
