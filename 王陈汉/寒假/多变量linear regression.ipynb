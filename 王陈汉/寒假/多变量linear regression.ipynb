{
 "cells": [
  {
   "cell_type": "code",
   "execution_count": 2,
   "id": "bb03c57e",
   "metadata": {},
   "outputs": [],
   "source": [
    "import numpy as np\n",
    "import pandas as pd\n",
    "import matplotlib.pyplot as plt"
   ]
  },
  {
   "cell_type": "code",
   "execution_count": 6,
   "id": "902acddc",
   "metadata": {
    "scrolled": true
   },
   "outputs": [
    {
     "data": {
      "text/html": [
       "<div>\n",
       "<style scoped>\n",
       "    .dataframe tbody tr th:only-of-type {\n",
       "        vertical-align: middle;\n",
       "    }\n",
       "\n",
       "    .dataframe tbody tr th {\n",
       "        vertical-align: top;\n",
       "    }\n",
       "\n",
       "    .dataframe thead th {\n",
       "        text-align: right;\n",
       "    }\n",
       "</style>\n",
       "<table border=\"1\" class=\"dataframe\">\n",
       "  <thead>\n",
       "    <tr style=\"text-align: right;\">\n",
       "      <th></th>\n",
       "      <th>size</th>\n",
       "      <th>bedrooms</th>\n",
       "      <th>price</th>\n",
       "    </tr>\n",
       "  </thead>\n",
       "  <tbody>\n",
       "    <tr>\n",
       "      <th>0</th>\n",
       "      <td>2104</td>\n",
       "      <td>3</td>\n",
       "      <td>399900</td>\n",
       "    </tr>\n",
       "    <tr>\n",
       "      <th>1</th>\n",
       "      <td>1600</td>\n",
       "      <td>3</td>\n",
       "      <td>329900</td>\n",
       "    </tr>\n",
       "    <tr>\n",
       "      <th>2</th>\n",
       "      <td>2400</td>\n",
       "      <td>3</td>\n",
       "      <td>369000</td>\n",
       "    </tr>\n",
       "    <tr>\n",
       "      <th>3</th>\n",
       "      <td>1416</td>\n",
       "      <td>2</td>\n",
       "      <td>232000</td>\n",
       "    </tr>\n",
       "    <tr>\n",
       "      <th>4</th>\n",
       "      <td>3000</td>\n",
       "      <td>4</td>\n",
       "      <td>539900</td>\n",
       "    </tr>\n",
       "  </tbody>\n",
       "</table>\n",
       "</div>"
      ],
      "text/plain": [
       "   size  bedrooms   price\n",
       "0  2104         3  399900\n",
       "1  1600         3  329900\n",
       "2  2400         3  369000\n",
       "3  1416         2  232000\n",
       "4  3000         4  539900"
      ]
     },
     "execution_count": 6,
     "metadata": {},
     "output_type": "execute_result"
    }
   ],
   "source": [
    "data=pd.read_csv(\"ex1data2 (1).txt\",names=['size','bedrooms','price'])\n",
    "data.head()"
   ]
  },
  {
   "cell_type": "markdown",
   "id": "6d51377c",
   "metadata": {},
   "source": [
    "2.特征归一化"
   ]
  },
  {
   "cell_type": "code",
   "execution_count": 8,
   "id": "27c950e5",
   "metadata": {},
   "outputs": [],
   "source": [
    "def normalize_feature(data):\n",
    "    return(data-data.mean())/data.std()"
   ]
  },
  {
   "cell_type": "code",
   "execution_count": 10,
   "id": "d19ec3b7",
   "metadata": {},
   "outputs": [
    {
     "data": {
      "text/html": [
       "<div>\n",
       "<style scoped>\n",
       "    .dataframe tbody tr th:only-of-type {\n",
       "        vertical-align: middle;\n",
       "    }\n",
       "\n",
       "    .dataframe tbody tr th {\n",
       "        vertical-align: top;\n",
       "    }\n",
       "\n",
       "    .dataframe thead th {\n",
       "        text-align: right;\n",
       "    }\n",
       "</style>\n",
       "<table border=\"1\" class=\"dataframe\">\n",
       "  <thead>\n",
       "    <tr style=\"text-align: right;\">\n",
       "      <th></th>\n",
       "      <th>size</th>\n",
       "      <th>bedrooms</th>\n",
       "      <th>price</th>\n",
       "    </tr>\n",
       "  </thead>\n",
       "  <tbody>\n",
       "    <tr>\n",
       "      <th>0</th>\n",
       "      <td>0.130010</td>\n",
       "      <td>-0.223675</td>\n",
       "      <td>0.475747</td>\n",
       "    </tr>\n",
       "    <tr>\n",
       "      <th>1</th>\n",
       "      <td>-0.504190</td>\n",
       "      <td>-0.223675</td>\n",
       "      <td>-0.084074</td>\n",
       "    </tr>\n",
       "    <tr>\n",
       "      <th>2</th>\n",
       "      <td>0.502476</td>\n",
       "      <td>-0.223675</td>\n",
       "      <td>0.228626</td>\n",
       "    </tr>\n",
       "    <tr>\n",
       "      <th>3</th>\n",
       "      <td>-0.735723</td>\n",
       "      <td>-1.537767</td>\n",
       "      <td>-0.867025</td>\n",
       "    </tr>\n",
       "    <tr>\n",
       "      <th>4</th>\n",
       "      <td>1.257476</td>\n",
       "      <td>1.090417</td>\n",
       "      <td>1.595389</td>\n",
       "    </tr>\n",
       "  </tbody>\n",
       "</table>\n",
       "</div>"
      ],
      "text/plain": [
       "       size  bedrooms     price\n",
       "0  0.130010 -0.223675  0.475747\n",
       "1 -0.504190 -0.223675 -0.084074\n",
       "2  0.502476 -0.223675  0.228626\n",
       "3 -0.735723 -1.537767 -0.867025\n",
       "4  1.257476  1.090417  1.595389"
      ]
     },
     "execution_count": 10,
     "metadata": {},
     "output_type": "execute_result"
    }
   ],
   "source": [
    "data=normalize_feature(data)\n",
    "data.head()"
   ]
  },
  {
   "cell_type": "code",
   "execution_count": 11,
   "id": "02d3bbea",
   "metadata": {},
   "outputs": [
    {
     "data": {
      "image/png": "[encoded data removed]",
      "text/plain": [
       "<Figure size 640x480 with 1 Axes>"
      ]
     },
     "metadata": {},
     "output_type": "display_data"
    }
   ],
   "source": [
    "data.plot.scatter('size','price',label='size')\n",
    "plt.show()"
   ]
  },
  {
   "cell_type": "code",
   "execution_count": 12,
   "id": "c9843683",
   "metadata": {},
   "outputs": [
    {
     "data": {
      "image/png": "[encoded data removed]",
      "text/plain": [
       "<Figure size 640x480 with 1 Axes>"
      ]
     },
     "metadata": {},
     "output_type": "display_data"
    }
   ],
   "source": [
    "data.plot.scatter('bedrooms','price',label='bedrooms')\n",
    "plt.show()"
   ]
  },
  {
   "cell_type": "markdown",
   "id": "917dcb1d",
   "metadata": {},
   "source": [
    "添加全为1的列"
   ]
  },
  {
   "cell_type": "code",
   "execution_count": 13,
   "id": "d9fdbc90",
   "metadata": {},
   "outputs": [
    {
     "data": {
      "text/html": [
       "<div>\n",
       "<style scoped>\n",
       "    .dataframe tbody tr th:only-of-type {\n",
       "        vertical-align: middle;\n",
       "    }\n",
       "\n",
       "    .dataframe tbody tr th {\n",
       "        vertical-align: top;\n",
       "    }\n",
       "\n",
       "    .dataframe thead th {\n",
       "        text-align: right;\n",
       "    }\n",
       "</style>\n",
       "<table border=\"1\" class=\"dataframe\">\n",
       "  <thead>\n",
       "    <tr style=\"text-align: right;\">\n",
       "      <th></th>\n",
       "      <th>ones</th>\n",
       "      <th>size</th>\n",
       "      <th>bedrooms</th>\n",
       "      <th>price</th>\n",
       "    </tr>\n",
       "  </thead>\n",
       "  <tbody>\n",
       "    <tr>\n",
       "      <th>0</th>\n",
       "      <td>1</td>\n",
       "      <td>0.130010</td>\n",
       "      <td>-0.223675</td>\n",
       "      <td>0.475747</td>\n",
       "    </tr>\n",
       "    <tr>\n",
       "      <th>1</th>\n",
       "      <td>1</td>\n",
       "      <td>-0.504190</td>\n",
       "      <td>-0.223675</td>\n",
       "      <td>-0.084074</td>\n",
       "    </tr>\n",
       "    <tr>\n",
       "      <th>2</th>\n",
       "      <td>1</td>\n",
       "      <td>0.502476</td>\n",
       "      <td>-0.223675</td>\n",
       "      <td>0.228626</td>\n",
       "    </tr>\n",
       "    <tr>\n",
       "      <th>3</th>\n",
       "      <td>1</td>\n",
       "      <td>-0.735723</td>\n",
       "      <td>-1.537767</td>\n",
       "      <td>-0.867025</td>\n",
       "    </tr>\n",
       "    <tr>\n",
       "      <th>4</th>\n",
       "      <td>1</td>\n",
       "      <td>1.257476</td>\n",
       "      <td>1.090417</td>\n",
       "      <td>1.595389</td>\n",
       "    </tr>\n",
       "  </tbody>\n",
       "</table>\n",
       "</div>"
      ],
      "text/plain": [
       "   ones      size  bedrooms     price\n",
       "0     1  0.130010 -0.223675  0.475747\n",
       "1     1 -0.504190 -0.223675 -0.084074\n",
       "2     1  0.502476 -0.223675  0.228626\n",
       "3     1 -0.735723 -1.537767 -0.867025\n",
       "4     1  1.257476  1.090417  1.595389"
      ]
     },
     "execution_count": 13,
     "metadata": {},
     "output_type": "execute_result"
    }
   ],
   "source": [
    "data.insert(0,'ones',1)\n",
    "data.head()"
   ]
  },
  {
   "cell_type": "markdown",
   "id": "bb8f7bdb",
   "metadata": {},
   "source": [
    "构造数据集"
   ]
  },
  {
   "cell_type": "code",
   "execution_count": 15,
   "id": "fdb2a5a1",
   "metadata": {},
   "outputs": [
    {
     "data": {
      "text/html": [
       "<div>\n",
       "<style scoped>\n",
       "    .dataframe tbody tr th:only-of-type {\n",
       "        vertical-align: middle;\n",
       "    }\n",
       "\n",
       "    .dataframe tbody tr th {\n",
       "        vertical-align: top;\n",
       "    }\n",
       "\n",
       "    .dataframe thead th {\n",
       "        text-align: right;\n",
       "    }\n",
       "</style>\n",
       "<table border=\"1\" class=\"dataframe\">\n",
       "  <thead>\n",
       "    <tr style=\"text-align: right;\">\n",
       "      <th></th>\n",
       "      <th>ones</th>\n",
       "      <th>size</th>\n",
       "      <th>bedrooms</th>\n",
       "    </tr>\n",
       "  </thead>\n",
       "  <tbody>\n",
       "    <tr>\n",
       "      <th>0</th>\n",
       "      <td>1</td>\n",
       "      <td>0.130010</td>\n",
       "      <td>-0.223675</td>\n",
       "    </tr>\n",
       "    <tr>\n",
       "      <th>1</th>\n",
       "      <td>1</td>\n",
       "      <td>-0.504190</td>\n",
       "      <td>-0.223675</td>\n",
       "    </tr>\n",
       "    <tr>\n",
       "      <th>2</th>\n",
       "      <td>1</td>\n",
       "      <td>0.502476</td>\n",
       "      <td>-0.223675</td>\n",
       "    </tr>\n",
       "    <tr>\n",
       "      <th>3</th>\n",
       "      <td>1</td>\n",
       "      <td>-0.735723</td>\n",
       "      <td>-1.537767</td>\n",
       "    </tr>\n",
       "    <tr>\n",
       "      <th>4</th>\n",
       "      <td>1</td>\n",
       "      <td>1.257476</td>\n",
       "      <td>1.090417</td>\n",
       "    </tr>\n",
       "  </tbody>\n",
       "</table>\n",
       "</div>"
      ],
      "text/plain": [
       "   ones      size  bedrooms\n",
       "0     1  0.130010 -0.223675\n",
       "1     1 -0.504190 -0.223675\n",
       "2     1  0.502476 -0.223675\n",
       "3     1 -0.735723 -1.537767\n",
       "4     1  1.257476  1.090417"
      ]
     },
     "execution_count": 15,
     "metadata": {},
     "output_type": "execute_result"
    }
   ],
   "source": [
    "X=data.iloc[:,0:-1]\n",
    "X.head()"
   ]
  },
  {
   "cell_type": "code",
   "execution_count": 16,
   "id": "303b0c22",
   "metadata": {},
   "outputs": [
    {
     "data": {
      "text/plain": [
       "0    0.475747\n",
       "1   -0.084074\n",
       "2    0.228626\n",
       "3   -0.867025\n",
       "4    1.595389\n",
       "Name: price, dtype: float64"
      ]
     },
     "execution_count": 16,
     "metadata": {},
     "output_type": "execute_result"
    }
   ],
   "source": [
    "y=data.iloc[:,-1]\n",
    "y.head()"
   ]
  },
  {
   "cell_type": "markdown",
   "id": "faa11ac3",
   "metadata": {},
   "source": [
    "转成数组"
   ]
  },
  {
   "cell_type": "code",
   "execution_count": 17,
   "id": "6e9b4cba",
   "metadata": {},
   "outputs": [
    {
     "data": {
      "text/plain": [
       "(47, 3)"
      ]
     },
     "execution_count": 17,
     "metadata": {},
     "output_type": "execute_result"
    }
   ],
   "source": [
    "X=X.values\n",
    "X.shape"
   ]
  },
  {
   "cell_type": "code",
   "execution_count": 18,
   "id": "bce9d00e",
   "metadata": {},
   "outputs": [
    {
     "data": {
      "text/plain": [
       "(47,)"
      ]
     },
     "execution_count": 18,
     "metadata": {},
     "output_type": "execute_result"
    }
   ],
   "source": [
    "y=y.values\n",
    "y.shape"
   ]
  },
  {
   "cell_type": "code",
   "execution_count": 19,
   "id": "de7b55d5",
   "metadata": {},
   "outputs": [],
   "source": [
    "y=y.reshape(47,1)"
   ]
  },
  {
   "cell_type": "code",
   "execution_count": 20,
   "id": "07b15a24",
   "metadata": {},
   "outputs": [
    {
     "data": {
      "text/plain": [
       "(47, 1)"
      ]
     },
     "execution_count": 20,
     "metadata": {},
     "output_type": "execute_result"
    }
   ],
   "source": [
    "y.shape"
   ]
  },
  {
   "cell_type": "code",
   "execution_count": 28,
   "id": "ade1d02d",
   "metadata": {},
   "outputs": [],
   "source": [
    "def costFunction(X,y,theta):\n",
    "    inner=np.power(X@theta-y,2)\n",
    "    return np.sum(inner)/(2*len(X))"
   ]
  },
  {
   "cell_type": "code",
   "execution_count": 29,
   "id": "b5d1ac1f",
   "metadata": {},
   "outputs": [],
   "source": [
    "theta=np.zeros((3,1))"
   ]
  },
  {
   "cell_type": "code",
   "execution_count": 30,
   "id": "3f32059c",
   "metadata": {},
   "outputs": [
    {
     "name": "stdout",
     "output_type": "stream",
     "text": [
      "0.4893617021276598\n"
     ]
    }
   ],
   "source": [
    "cost_init=costFunction(X,y,theta)\n",
    "print(cost_init)"
   ]
  },
  {
   "cell_type": "markdown",
   "id": "35d7dd8b",
   "metadata": {},
   "source": [
    "梯度下降"
   ]
  },
  {
   "cell_type": "code",
   "execution_count": 31,
   "id": "1676734d",
   "metadata": {},
   "outputs": [],
   "source": [
    "def gradientDescent(X,y,theta,alpha,iters):\n",
    "    costs = []\n",
    "    \n",
    "    for i in range(iters):\n",
    "        theta = theta - (X.T @ (X@theta - y) ) * alpha / len(X)\n",
    "        cost = costFunction(X,y,theta)\n",
    "        costs.append(cost)\n",
    "        \n",
    "        if i % 100 == 0:\n",
    "            print(cost)\n",
    "            \n",
    "    return theta,costs"
   ]
  },
  {
   "cell_type": "code",
   "execution_count": 32,
   "id": "4a7b0254",
   "metadata": {},
   "outputs": [
    {
     "name": "stdout",
     "output_type": "stream",
     "text": [
      "0.471863078323805\n",
      "0.14769069097087117\n",
      "0.1336126068627211\n",
      "0.13120498443304696\n",
      "0.13077838964126165\n",
      "0.13070277225055468\n",
      "0.13068936839094536\n",
      "0.1306869924366786\n",
      "0.13068657127748678\n",
      "0.13068649662324475\n",
      "0.13068648339011116\n",
      "0.13068648104441954\n",
      "0.13068648062862473\n",
      "0.13068648055492138\n",
      "0.13068648054185678\n",
      "0.13068648053954093\n",
      "0.13068648053913046\n",
      "0.1306864805390577\n",
      "0.1306864805390448\n",
      "0.1306864805390425\n"
     ]
    }
   ],
   "source": [
    "alpha = 0.02\n",
    "iters = 2000\n",
    "\n",
    "theta,costs = gradientDescent(X,y,theta,alpha,iters)"
   ]
  },
  {
   "cell_type": "markdown",
   "id": "c45c352b",
   "metadata": {},
   "source": [
    "不同alpha的效果"
   ]
  },
  {
   "cell_type": "code",
   "execution_count": 36,
   "id": "bea43043",
   "metadata": {},
   "outputs": [],
   "source": [
    "candinate_alpha=[0.0003,0.003,0.03,0.0001,0.001,0.01]\n",
    "iters=2000"
   ]
  },
  {
   "cell_type": "code",
   "execution_count": 39,
   "id": "1be68d75",
   "metadata": {},
   "outputs": [
    {
     "name": "stdout",
     "output_type": "stream",
     "text": [
      "0.1306864805390421\n",
      "0.13068648053904214\n",
      "0.1306864805390421\n",
      "0.13068648053904208\n",
      "0.13068648053904208\n",
      "0.1306864805390421\n",
      "0.13068648053904205\n",
      "0.1306864805390421\n",
      "0.1306864805390421\n",
      "0.13068648053904208\n",
      "0.1306864805390421\n",
      "0.1306864805390421\n",
      "0.13068648053904208\n",
      "0.13068648053904208\n",
      "0.13068648053904208\n",
      "0.1306864805390421\n",
      "0.13068648053904205\n",
      "0.13068648053904208\n",
      "0.13068648053904205\n",
      "0.13068648053904208\n",
      "0.13068648053904208\n",
      "0.13068648053904205\n",
      "0.13068648053904205\n",
      "0.13068648053904205\n",
      "0.13068648053904205\n",
      "0.13068648053904205\n",
      "0.13068648053904203\n",
      "0.13068648053904205\n",
      "0.13068648053904203\n",
      "0.130686480539042\n",
      "0.13068648053904205\n",
      "0.13068648053904205\n",
      "0.13068648053904203\n",
      "0.13068648053904205\n",
      "0.13068648053904203\n",
      "0.13068648053904203\n",
      "0.13068648053904205\n",
      "0.13068648053904205\n",
      "0.130686480539042\n",
      "0.13068648053904203\n",
      "0.1306864805390421\n",
      "0.13068648053904205\n",
      "0.13068648053904203\n",
      "0.13068648053904203\n",
      "0.13068648053904203\n",
      "0.130686480539042\n",
      "0.13068648053904203\n",
      "0.130686480539042\n",
      "0.13068648053904203\n",
      "0.130686480539042\n",
      "0.13068648053904203\n",
      "0.13068648053904205\n",
      "0.13068648053904205\n",
      "0.13068648053904203\n",
      "0.13068648053904203\n",
      "0.13068648053904203\n",
      "0.13068648053904203\n",
      "0.13068648053904203\n",
      "0.13068648053904203\n",
      "0.13068648053904203\n",
      "0.13068648053904214\n",
      "0.13068648053904214\n",
      "0.1306864805390421\n",
      "0.13068648053904214\n",
      "0.1306864805390421\n",
      "0.1306864805390421\n",
      "0.1306864805390421\n",
      "0.1306864805390421\n",
      "0.1306864805390421\n",
      "0.1306864805390421\n",
      "0.13068648053904208\n",
      "0.1306864805390421\n",
      "0.13068648053904208\n",
      "0.13068648053904208\n",
      "0.1306864805390421\n",
      "0.1306864805390421\n",
      "0.1306864805390421\n",
      "0.1306864805390421\n",
      "0.1306864805390421\n",
      "0.1306864805390421\n",
      "0.13068648053904214\n",
      "0.1306864805390421\n",
      "0.13068648053904208\n",
      "0.13068648053904208\n",
      "0.13068648053904208\n",
      "0.1306864805390421\n",
      "0.1306864805390421\n",
      "0.13068648053904205\n",
      "0.13068648053904208\n",
      "0.13068648053904208\n",
      "0.13068648053904205\n",
      "0.13068648053904208\n",
      "0.13068648053904205\n",
      "0.13068648053904205\n",
      "0.13068648053904205\n",
      "0.13068648053904205\n",
      "0.13068648053904205\n",
      "0.13068648053904203\n",
      "0.13068648053904203\n",
      "0.13068648053904203\n",
      "0.1306864805390421\n",
      "0.13068648053904205\n",
      "0.13068648053904203\n",
      "0.130686480539042\n",
      "0.13068648053904205\n",
      "0.13068648053904205\n",
      "0.130686480539042\n",
      "0.130686480539042\n",
      "0.13068648053904203\n",
      "0.13068648053904205\n",
      "0.13068648053904203\n",
      "0.130686480539042\n",
      "0.13068648053904203\n",
      "0.13068648053904205\n",
      "0.13068648053904205\n",
      "0.13068648053904205\n",
      "0.13068648053904203\n",
      "0.13068648053904203\n",
      "0.13068648053904205\n",
      "0.13068648053904203\n"
     ]
    },
    {
     "data": {
      "image/png": "[encoded data removed]",
      "text/plain": [
       "<Figure size 640x480 with 1 Axes>"
      ]
     },
     "metadata": {},
     "output_type": "display_data"
    }
   ],
   "source": [
    "fig,ax=plt.subplots()\n",
    "    \n",
    "for alpha in candinate_alpha:\n",
    "    _,costs=gradientDescent(X,y,theta,alpha,iters)\n",
    "    ax.plot(np.arange(iters),costs,label=alpha)\n",
    "    ax.legend()\n",
    "    \n",
    "ax.set(xlabel='iters',\n",
    "      ylabel='cost',\n",
    "      title='cost vs iters')\n",
    "plt.show()"
   ]
  },
  {
   "cell_type": "code",
   "execution_count": 40,
   "id": "cdd2f3f6",
   "metadata": {},
   "outputs": [
    {
     "data": {
      "text/plain": [
       "array([[-4.38419986e-17],\n",
       "       [ 8.84765973e-01],\n",
       "       [-5.31788053e-02]])"
      ]
     },
     "execution_count": 40,
     "metadata": {},
     "output_type": "execute_result"
    }
   ],
   "source": [
    "theta"
   ]
  },
  {
   "cell_type": "code",
   "execution_count": null,
   "id": "83389f37",
   "metadata": {},
   "outputs": [],
   "source": []
  }
 ],
 "metadata": {
  "kernelspec": {
   "display_name": "Python 3 (ipykernel)",
   "language": "python",
   "name": "python3"
  },
  "language_info": {
   "codemirror_mode": {
    "name": "ipython",
    "version": 3
   },
   "file_extension": ".py",
   "mimetype": "text/x-python",
   "name": "python",
   "nbconvert_exporter": "python",
   "pygments_lexer": "ipython3",
   "version": "3.9.13"
  }
 },
 "nbformat": 4,
 "nbformat_minor": 5
}
